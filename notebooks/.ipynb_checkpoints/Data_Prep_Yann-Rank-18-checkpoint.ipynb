{
 "cells": [
  {
   "cell_type": "code",
   "execution_count": 244,
   "metadata": {
    "collapsed": true
   },
   "outputs": [],
   "source": [
    "# Import libraries necessary for this project\n",
    "import numpy as np\n",
    "import pandas as pd\n",
    "from IPython.display import display # Allows the use of display() for DataFrames\n",
    "import matplotlib.pyplot as plt\n",
    "import seaborn as sns\n",
    "import math\n",
    "\n",
    "# Baseline SK Learn Model\n",
    "from sklearn.preprocessing import MinMaxScaler\n",
    "from sklearn.metrics import mean_squared_error, mean_absolute_error\n",
    "from sklearn.model_selection import cross_val_score, KFold, StratifiedKFold, StratifiedShuffleSplit\n",
    "from sklearn.preprocessing import StandardScaler\n",
    "from sklearn.pipeline import Pipeline\n",
    "from sklearn.preprocessing import Imputer\n",
    "\n",
    "from scipy.stats import skew\n",
    "\n",
    "# Import OS module\n",
    "import os"
   ]
  },
  {
   "cell_type": "code",
   "execution_count": 245,
   "metadata": {},
   "outputs": [
    {
     "name": "stdout",
     "output_type": "stream",
     "text": [
      "C:\\Users\\ydupis\\Documents\\Data-Science\\Competition\\AirBnbPrediction\\data\n"
     ]
    }
   ],
   "source": [
    "# view current directory\n",
    "originalDirectory = os.getcwd()\n",
    "#rootDirectory = originalDirectory[:-9]\n",
    "rootDirectory = \"C:/Users/ydupis/Documents/Data-Science/Competition/AirBnbPrediction/\"\n",
    "\n",
    "#Change Directory to data/raw\n",
    "os.chdir(\"{}data\".format(rootDirectory))\n",
    "print(os.getcwd())"
   ]
  },
  {
   "cell_type": "code",
   "execution_count": 246,
   "metadata": {
    "collapsed": true
   },
   "outputs": [],
   "source": [
    "# Load dataset for exloratory analysis\n",
    "#Define file name\n",
    "train_filename = 'raw/train.csv'\n",
    "test_filename = 'raw/test.csv'\n",
    "sample_filename = 'raw/sample_submission.csv'\n",
    "zillow_filename = 'processed/zillow_ready.csv'\n",
    "\n",
    "#Read CSV file\n",
    "train_detail =  pd.read_csv(train_filename)\n",
    "test_detail =  pd.read_csv(test_filename)\n",
    "sample_detail=  pd.read_csv(sample_filename)\n",
    "zillow=  pd.read_csv(zillow_filename)"
   ]
  },
  {
   "cell_type": "code",
   "execution_count": 247,
   "metadata": {},
   "outputs": [
    {
     "name": "stdout",
     "output_type": "stream",
     "text": [
      "There are 74111 rows and 29 columns in train dataset\n",
      "There are 25458 rows and 28 columns in test dataset\n"
     ]
    }
   ],
   "source": [
    "print(\"There are {} rows and {} columns in train dataset\".format(train_detail.shape[0],train_detail.shape[1]))\n",
    "print(\"There are {} rows and {} columns in test dataset\".format(test_detail.shape[0],test_detail.shape[1]))"
   ]
  },
  {
   "cell_type": "markdown",
   "metadata": {},
   "source": [
    "### Missing Value"
   ]
  },
  {
   "cell_type": "code",
   "execution_count": 248,
   "metadata": {
    "collapsed": true
   },
   "outputs": [],
   "source": [
    "## Missing Value analysis\n",
    "def missing_value_analysis(df):\n",
    "    list_null_num = len(df.index) - df.count()\n",
    "    list_null_perc = ((len(df.index) - df.count()) / df.shape[0]) * 100\n",
    "    list_null_num = list_null_num.sort_values(ascending=False)\n",
    "    list_null_perc = list_null_perc.sort_values(ascending=False)\n",
    "\n",
    "    missing_df = pd.DataFrame({'Missing Count':list_null_num,\n",
    "                             'Missing Percentage(%)':list_null_perc})\n",
    "    missing_df.index.name = 'Feature Names'\n",
    "    missing_df.reset_index(inplace=True)\n",
    "    missing_df_final = missing_df[missing_df['Missing Count'] > 0]\n",
    "    return missing_df_final"
   ]
  },
  {
   "cell_type": "code",
   "execution_count": 249,
   "metadata": {},
   "outputs": [
    {
     "data": {
      "text/html": [
       "<div>\n",
       "<style scoped>\n",
       "    .dataframe tbody tr th:only-of-type {\n",
       "        vertical-align: middle;\n",
       "    }\n",
       "\n",
       "    .dataframe tbody tr th {\n",
       "        vertical-align: top;\n",
       "    }\n",
       "\n",
       "    .dataframe thead th {\n",
       "        text-align: right;\n",
       "    }\n",
       "</style>\n",
       "<table border=\"1\" class=\"dataframe\">\n",
       "  <thead>\n",
       "    <tr style=\"text-align: right;\">\n",
       "      <th></th>\n",
       "      <th>Feature Names</th>\n",
       "      <th>Missing Count</th>\n",
       "      <th>Missing Percentage(%)</th>\n",
       "    </tr>\n",
       "  </thead>\n",
       "  <tbody>\n",
       "    <tr>\n",
       "      <th>0</th>\n",
       "      <td>host_response_rate</td>\n",
       "      <td>18299</td>\n",
       "      <td>24.691341</td>\n",
       "    </tr>\n",
       "    <tr>\n",
       "      <th>1</th>\n",
       "      <td>review_scores_rating</td>\n",
       "      <td>16722</td>\n",
       "      <td>22.563452</td>\n",
       "    </tr>\n",
       "    <tr>\n",
       "      <th>2</th>\n",
       "      <td>first_review</td>\n",
       "      <td>15864</td>\n",
       "      <td>21.405729</td>\n",
       "    </tr>\n",
       "    <tr>\n",
       "      <th>3</th>\n",
       "      <td>last_review</td>\n",
       "      <td>15827</td>\n",
       "      <td>21.355804</td>\n",
       "    </tr>\n",
       "    <tr>\n",
       "      <th>4</th>\n",
       "      <td>thumbnail_url</td>\n",
       "      <td>8216</td>\n",
       "      <td>11.086074</td>\n",
       "    </tr>\n",
       "    <tr>\n",
       "      <th>5</th>\n",
       "      <td>neighbourhood</td>\n",
       "      <td>6872</td>\n",
       "      <td>9.272578</td>\n",
       "    </tr>\n",
       "    <tr>\n",
       "      <th>6</th>\n",
       "      <td>zipcode</td>\n",
       "      <td>966</td>\n",
       "      <td>1.303450</td>\n",
       "    </tr>\n",
       "    <tr>\n",
       "      <th>7</th>\n",
       "      <td>bathrooms</td>\n",
       "      <td>200</td>\n",
       "      <td>0.269865</td>\n",
       "    </tr>\n",
       "    <tr>\n",
       "      <th>8</th>\n",
       "      <td>host_identity_verified</td>\n",
       "      <td>188</td>\n",
       "      <td>0.253674</td>\n",
       "    </tr>\n",
       "    <tr>\n",
       "      <th>9</th>\n",
       "      <td>host_since</td>\n",
       "      <td>188</td>\n",
       "      <td>0.253674</td>\n",
       "    </tr>\n",
       "    <tr>\n",
       "      <th>10</th>\n",
       "      <td>host_has_profile_pic</td>\n",
       "      <td>188</td>\n",
       "      <td>0.253674</td>\n",
       "    </tr>\n",
       "    <tr>\n",
       "      <th>11</th>\n",
       "      <td>beds</td>\n",
       "      <td>131</td>\n",
       "      <td>0.176762</td>\n",
       "    </tr>\n",
       "    <tr>\n",
       "      <th>12</th>\n",
       "      <td>bedrooms</td>\n",
       "      <td>91</td>\n",
       "      <td>0.122789</td>\n",
       "    </tr>\n",
       "  </tbody>\n",
       "</table>\n",
       "</div>"
      ],
      "text/plain": [
       "             Feature Names  Missing Count  Missing Percentage(%)\n",
       "0       host_response_rate          18299              24.691341\n",
       "1     review_scores_rating          16722              22.563452\n",
       "2             first_review          15864              21.405729\n",
       "3              last_review          15827              21.355804\n",
       "4            thumbnail_url           8216              11.086074\n",
       "5            neighbourhood           6872               9.272578\n",
       "6                  zipcode            966               1.303450\n",
       "7                bathrooms            200               0.269865\n",
       "8   host_identity_verified            188               0.253674\n",
       "9               host_since            188               0.253674\n",
       "10    host_has_profile_pic            188               0.253674\n",
       "11                    beds            131               0.176762\n",
       "12                bedrooms             91               0.122789"
      ]
     },
     "execution_count": 249,
     "metadata": {},
     "output_type": "execute_result"
    }
   ],
   "source": [
    "missing_value_analysis(train_detail)"
   ]
  },
  {
   "cell_type": "markdown",
   "metadata": {},
   "source": [
    "### Missing Value Imputation"
   ]
  },
  {
   "cell_type": "code",
   "execution_count": 250,
   "metadata": {
    "collapsed": true
   },
   "outputs": [],
   "source": [
    "\n",
    "def feature_engineering(data):\n",
    "    \n",
    "    #numeric_feats = data.dtypes[data.dtypes != \"object\"].index\n",
    "    #numeric_to_exlude = ['id','latitude','longitude','log_price']\n",
    "    #numeric_feats_final = [el for el in numeric_feats if el not in numeric_to_exlude]\n",
    "    #numeric_feats_final = list(set(numeric_feats) - set(numeric_to_exlude))\n",
    "    #print(numeric_feats_final)\n",
    "    #print(numeric_feats_final)\n",
    "\n",
    "    #skewed_feats = data[numeric_feats_final].apply(lambda x: skew(x.dropna())) #compute skewness\n",
    "    #skewed_feats = skewed_feats[skewed_feats > 0.75]\n",
    "    #skewed_feats = skewed_feats.index\n",
    "\n",
    "    #data[skewed_feats] = np.log1p(data[skewed_feats])\n",
    "\n",
    "    ## Initializing the imputer \n",
    "    imp_mean = Imputer(missing_values= 'NaN', strategy= 'mean', axis= 0)\n",
    "    imp_median = Imputer(missing_values= 'NaN', strategy= 'median', axis= 0)\n",
    "    imp_most_frequent = Imputer(missing_values= 'NaN', strategy= 'most_frequent', axis= 0)\n",
    "\n",
    "    ## Imputing Host_response_rate\n",
    "    # convert formatting for host_response_rate, removing % signs\n",
    "    data['host_response_rate'] = (data['host_response_rate'].str.replace(r'[^-+\\d.]', '').astype(float))\n",
    "    data['host_response_rate'] = imp_median.fit_transform(data[['host_response_rate']])\n",
    "\n",
    "    ## Imputing review_scores_rating\n",
    "    data['review_scores_rating'] = imp_mean.fit_transform(data[['review_scores_rating']]).astype(int)\n",
    "\n",
    "    ## replace NaN by 'NO Date' and treat the missing values correctly\n",
    "    data['neighbourhood'] = data['neighbourhood'].replace(np.NaN,'not provided')\n",
    "    data['zipcode'] = data['zipcode'].replace(np.NaN,'not provided')\n",
    "\n",
    "    ## Imputing Bathrooms and bedrooms variables\n",
    "    data['bathrooms'] = imp_median.fit_transform(data[['bathrooms']]).astype(int)\n",
    "    data['bedrooms'] = imp_median.fit_transform(data[['bedrooms']]).astype(int)\n",
    "    data['beds'] = imp_median.fit_transform(data[['beds']]).astype(int)\n",
    "\n",
    "    ## Most frequent \n",
    "    data['host_identity_verified'] = data['host_identity_verified'].replace(['t','f'],[1,0])\n",
    "    host_identity_verified_median = data[\"host_identity_verified\"].median()\n",
    "    data['host_identity_verified'] = data['host_identity_verified'].replace([np.NaN],[host_identity_verified_median]).astype(int)\n",
    "\n",
    "    data['host_has_profile_pic'] = data['host_has_profile_pic'].replace(['t','f'],[1,0])\n",
    "    host_has_profile_pic_median = data[\"host_has_profile_pic\"].median()\n",
    "    data['host_has_profile_pic'] = data['host_has_profile_pic'].replace([np.NaN],[host_has_profile_pic_median]).astype(int)\n",
    "    \n",
    "    # Count the number of aminities \n",
    "    data['amenities_count'] = data['amenities'].apply(lambda x: len(x.split()))\n",
    "    \n",
    "    data['name'] = data['name'].replace([np.NaN],[\"Not Provided\"])\n",
    "    \n",
    "    # Count the number of words in the description\n",
    "    data['description'] = data['description'].replace([np.NaN],[\"Not Provided\"])\n",
    "    data['description_length'] = data['description'].apply(lambda x: len(x.split()))\n",
    "    \n",
    "    # Replace True and False with 1 and 0\n",
    "    data['cleaning_fee'] = data['cleaning_fee'].apply(lambda x: 1 if x==True else 0)\n",
    "    \n",
    "    # Replcase existing thumbnail by 1 and missig thumbnail by 0\n",
    "    data['thumbnail_url'].loc[data['thumbnail_url'].notnull()] = 1\n",
    "    data['thumbnail_url'].loc[data['thumbnail_url'].isnull()] = 0\n",
    "    \n",
    "    # Extract year from first_review field. Missing first_review date replaces by 9999\n",
    "    # For this variable we could create a dummy variable\n",
    "    data['first_review'].loc[data['first_review'].isnull()] = \"9999\"\n",
    "    #data['first_review'] = data['first_review'].apply(lambda x: x[:4])\n",
    "    \n",
    "    data['last_review'].loc[data['last_review'].isnull()] = \"9999\"\n",
    "    #data['last_review'] = data['last_review'].apply(lambda x: x[:4])\n",
    "    \n",
    "    data['host_since'].loc[data['host_since'].isnull()] = \"9999\"\n",
    "    #data['host_since'] = data['host_since'].apply(lambda x: x[:4])\n",
    "\n",
    "    return data"
   ]
  },
  {
   "cell_type": "code",
   "execution_count": 251,
   "metadata": {},
   "outputs": [
    {
     "name": "stderr",
     "output_type": "stream",
     "text": [
      "C:\\Users\\ydupis\\AppData\\Local\\Continuum\\anaconda3\\lib\\site-packages\\pandas\\core\\indexing.py:194: SettingWithCopyWarning: \n",
      "A value is trying to be set on a copy of a slice from a DataFrame\n",
      "\n",
      "See the caveats in the documentation: http://pandas.pydata.org/pandas-docs/stable/indexing.html#indexing-view-versus-copy\n",
      "  self._setitem_with_indexer(indexer, value)\n"
     ]
    }
   ],
   "source": [
    "train_detail = feature_engineering(train_detail)\n",
    "test_detail = feature_engineering(test_detail)"
   ]
  },
  {
   "cell_type": "markdown",
   "metadata": {},
   "source": [
    "### Merge Zillow data"
   ]
  },
  {
   "cell_type": "code",
   "execution_count": 252,
   "metadata": {
    "collapsed": true
   },
   "outputs": [],
   "source": [
    "# Merge Zillow external data\n",
    "zillow['zipcode']= zillow['zipcode'].astype('str')\n",
    "\n",
    "train_detail = train_detail.merge(zillow,how='left', on = ['zipcode','city'])\n",
    "# Fill missing with mean by city\n",
    "train_detail[\"zhvi\"] = train_detail[['city','zhvi']].groupby(\"city\").transform(lambda x: x.fillna(x.mean()))\n",
    "\n",
    "test_detail = test_detail.merge(zillow,how='left', on = ['zipcode','city'])\n",
    "# Fill missing with mean by city\n",
    "test_detail[\"zhvi\"] = test_detail[['city','zhvi']].groupby(\"city\").transform(lambda x: x.fillna(x.mean()))"
   ]
  },
  {
   "cell_type": "code",
   "execution_count": 253,
   "metadata": {},
   "outputs": [
    {
     "data": {
      "text/html": [
       "<div>\n",
       "<style scoped>\n",
       "    .dataframe tbody tr th:only-of-type {\n",
       "        vertical-align: middle;\n",
       "    }\n",
       "\n",
       "    .dataframe tbody tr th {\n",
       "        vertical-align: top;\n",
       "    }\n",
       "\n",
       "    .dataframe thead th {\n",
       "        text-align: right;\n",
       "    }\n",
       "</style>\n",
       "<table border=\"1\" class=\"dataframe\">\n",
       "  <thead>\n",
       "    <tr style=\"text-align: right;\">\n",
       "      <th></th>\n",
       "      <th>id</th>\n",
       "      <th>log_price</th>\n",
       "      <th>property_type</th>\n",
       "      <th>room_type</th>\n",
       "      <th>amenities</th>\n",
       "      <th>accommodates</th>\n",
       "      <th>bathrooms</th>\n",
       "      <th>bed_type</th>\n",
       "      <th>cancellation_policy</th>\n",
       "      <th>cleaning_fee</th>\n",
       "      <th>...</th>\n",
       "      <th>neighbourhood</th>\n",
       "      <th>number_of_reviews</th>\n",
       "      <th>review_scores_rating</th>\n",
       "      <th>thumbnail_url</th>\n",
       "      <th>zipcode</th>\n",
       "      <th>bedrooms</th>\n",
       "      <th>beds</th>\n",
       "      <th>amenities_count</th>\n",
       "      <th>description_length</th>\n",
       "      <th>zhvi</th>\n",
       "    </tr>\n",
       "  </thead>\n",
       "  <tbody>\n",
       "    <tr>\n",
       "      <th>0</th>\n",
       "      <td>6901257</td>\n",
       "      <td>5.010635</td>\n",
       "      <td>Apartment</td>\n",
       "      <td>Entire home/apt</td>\n",
       "      <td>{\"Wireless Internet\",\"Air conditioning\",Kitche...</td>\n",
       "      <td>1.386294</td>\n",
       "      <td>0</td>\n",
       "      <td>Real Bed</td>\n",
       "      <td>strict</td>\n",
       "      <td>1</td>\n",
       "      <td>...</td>\n",
       "      <td>Brooklyn Heights</td>\n",
       "      <td>1.098612</td>\n",
       "      <td>100</td>\n",
       "      <td>1</td>\n",
       "      <td>11201</td>\n",
       "      <td>0</td>\n",
       "      <td>0</td>\n",
       "      <td>7</td>\n",
       "      <td>31</td>\n",
       "      <td>14.032958</td>\n",
       "    </tr>\n",
       "    <tr>\n",
       "      <th>1</th>\n",
       "      <td>6304928</td>\n",
       "      <td>5.129899</td>\n",
       "      <td>Apartment</td>\n",
       "      <td>Entire home/apt</td>\n",
       "      <td>{\"Wireless Internet\",\"Air conditioning\",Kitche...</td>\n",
       "      <td>2.079442</td>\n",
       "      <td>0</td>\n",
       "      <td>Real Bed</td>\n",
       "      <td>strict</td>\n",
       "      <td>1</td>\n",
       "      <td>...</td>\n",
       "      <td>Hell's Kitchen</td>\n",
       "      <td>1.945910</td>\n",
       "      <td>93</td>\n",
       "      <td>1</td>\n",
       "      <td>10019</td>\n",
       "      <td>1</td>\n",
       "      <td>1</td>\n",
       "      <td>9</td>\n",
       "      <td>168</td>\n",
       "      <td>14.062527</td>\n",
       "    </tr>\n",
       "    <tr>\n",
       "      <th>2</th>\n",
       "      <td>7919400</td>\n",
       "      <td>4.976734</td>\n",
       "      <td>Apartment</td>\n",
       "      <td>Entire home/apt</td>\n",
       "      <td>{TV,\"Cable TV\",\"Wireless Internet\",\"Air condit...</td>\n",
       "      <td>1.791759</td>\n",
       "      <td>0</td>\n",
       "      <td>Real Bed</td>\n",
       "      <td>moderate</td>\n",
       "      <td>1</td>\n",
       "      <td>...</td>\n",
       "      <td>Harlem</td>\n",
       "      <td>2.397895</td>\n",
       "      <td>92</td>\n",
       "      <td>1</td>\n",
       "      <td>10027</td>\n",
       "      <td>0</td>\n",
       "      <td>1</td>\n",
       "      <td>15</td>\n",
       "      <td>167</td>\n",
       "      <td>13.814285</td>\n",
       "    </tr>\n",
       "    <tr>\n",
       "      <th>3</th>\n",
       "      <td>13418779</td>\n",
       "      <td>6.620073</td>\n",
       "      <td>House</td>\n",
       "      <td>Entire home/apt</td>\n",
       "      <td>{TV,\"Cable TV\",Internet,\"Wireless Internet\",Ki...</td>\n",
       "      <td>1.609438</td>\n",
       "      <td>0</td>\n",
       "      <td>Real Bed</td>\n",
       "      <td>flexible</td>\n",
       "      <td>1</td>\n",
       "      <td>...</td>\n",
       "      <td>Lower Haight</td>\n",
       "      <td>0.000000</td>\n",
       "      <td>94</td>\n",
       "      <td>1</td>\n",
       "      <td>94117.0</td>\n",
       "      <td>1</td>\n",
       "      <td>1</td>\n",
       "      <td>11</td>\n",
       "      <td>78</td>\n",
       "      <td>14.142922</td>\n",
       "    </tr>\n",
       "    <tr>\n",
       "      <th>4</th>\n",
       "      <td>3808709</td>\n",
       "      <td>4.744932</td>\n",
       "      <td>Apartment</td>\n",
       "      <td>Entire home/apt</td>\n",
       "      <td>{TV,Internet,\"Wireless Internet\",\"Air conditio...</td>\n",
       "      <td>1.098612</td>\n",
       "      <td>0</td>\n",
       "      <td>Real Bed</td>\n",
       "      <td>moderate</td>\n",
       "      <td>1</td>\n",
       "      <td>...</td>\n",
       "      <td>Columbia Heights</td>\n",
       "      <td>1.609438</td>\n",
       "      <td>40</td>\n",
       "      <td>0</td>\n",
       "      <td>20009</td>\n",
       "      <td>0</td>\n",
       "      <td>0</td>\n",
       "      <td>9</td>\n",
       "      <td>115</td>\n",
       "      <td>13.207440</td>\n",
       "    </tr>\n",
       "  </tbody>\n",
       "</table>\n",
       "<p>5 rows × 32 columns</p>\n",
       "</div>"
      ],
      "text/plain": [
       "         id  log_price property_type        room_type  \\\n",
       "0   6901257   5.010635     Apartment  Entire home/apt   \n",
       "1   6304928   5.129899     Apartment  Entire home/apt   \n",
       "2   7919400   4.976734     Apartment  Entire home/apt   \n",
       "3  13418779   6.620073         House  Entire home/apt   \n",
       "4   3808709   4.744932     Apartment  Entire home/apt   \n",
       "\n",
       "                                           amenities  accommodates  bathrooms  \\\n",
       "0  {\"Wireless Internet\",\"Air conditioning\",Kitche...      1.386294          0   \n",
       "1  {\"Wireless Internet\",\"Air conditioning\",Kitche...      2.079442          0   \n",
       "2  {TV,\"Cable TV\",\"Wireless Internet\",\"Air condit...      1.791759          0   \n",
       "3  {TV,\"Cable TV\",Internet,\"Wireless Internet\",Ki...      1.609438          0   \n",
       "4  {TV,Internet,\"Wireless Internet\",\"Air conditio...      1.098612          0   \n",
       "\n",
       "   bed_type cancellation_policy  cleaning_fee    ...         neighbourhood  \\\n",
       "0  Real Bed              strict             1    ...      Brooklyn Heights   \n",
       "1  Real Bed              strict             1    ...        Hell's Kitchen   \n",
       "2  Real Bed            moderate             1    ...                Harlem   \n",
       "3  Real Bed            flexible             1    ...          Lower Haight   \n",
       "4  Real Bed            moderate             1    ...      Columbia Heights   \n",
       "\n",
       "  number_of_reviews review_scores_rating  thumbnail_url  zipcode  bedrooms  \\\n",
       "0          1.098612                  100              1    11201         0   \n",
       "1          1.945910                   93              1    10019         1   \n",
       "2          2.397895                   92              1    10027         0   \n",
       "3          0.000000                   94              1  94117.0         1   \n",
       "4          1.609438                   40              0    20009         0   \n",
       "\n",
       "  beds amenities_count description_length       zhvi  \n",
       "0    0               7                 31  14.032958  \n",
       "1    1               9                168  14.062527  \n",
       "2    1              15                167  13.814285  \n",
       "3    1              11                 78  14.142922  \n",
       "4    0               9                115  13.207440  \n",
       "\n",
       "[5 rows x 32 columns]"
      ]
     },
     "execution_count": 253,
     "metadata": {},
     "output_type": "execute_result"
    }
   ],
   "source": [
    "test.head()"
   ]
  },
  {
   "cell_type": "markdown",
   "metadata": {},
   "source": [
    "### Create one column by amenities"
   ]
  },
  {
   "cell_type": "code",
   "execution_count": 254,
   "metadata": {
    "collapsed": true
   },
   "outputs": [],
   "source": [
    "amenities_list = []\n",
    "for i in range(len(train_detail)):\n",
    "    amenities_list += train_detail.amenities[i][1:-1].split(',')"
   ]
  },
  {
   "cell_type": "code",
   "execution_count": 255,
   "metadata": {
    "collapsed": true
   },
   "outputs": [],
   "source": [
    "amenities_list = list(set(amenities_list))"
   ]
  },
  {
   "cell_type": "code",
   "execution_count": 256,
   "metadata": {
    "collapsed": true
   },
   "outputs": [],
   "source": [
    "amenities_list_dict_train = {}\n",
    "amenities_list_dict_test = {}\n",
    "\n",
    "for a in amenities_list:\n",
    "    amenities_list_dict_train[a] = []\n",
    "    amenities_list_dict_test[a] = []"
   ]
  },
  {
   "cell_type": "code",
   "execution_count": 257,
   "metadata": {
    "collapsed": true
   },
   "outputs": [],
   "source": [
    "#amenities_list_dict"
   ]
  },
  {
   "cell_type": "code",
   "execution_count": 258,
   "metadata": {
    "collapsed": true
   },
   "outputs": [],
   "source": [
    "for i in range(len(train_detail)):\n",
    "    l = train_detail.amenities[i][1:-1].split(',')\n",
    "    for a in amenities_list_dict_train.keys():\n",
    "        if a in l:\n",
    "            amenities_list_dict_train[a].append(1)\n",
    "        else:\n",
    "            amenities_list_dict_train[a].append(0)"
   ]
  },
  {
   "cell_type": "code",
   "execution_count": 259,
   "metadata": {
    "collapsed": true
   },
   "outputs": [],
   "source": [
    "amenities_table_train = pd.DataFrame(amenities_list_dict_train)\n",
    "amenities_table_train = amenities_table_train.drop([''],axis=1)"
   ]
  },
  {
   "cell_type": "code",
   "execution_count": 260,
   "metadata": {
    "collapsed": true
   },
   "outputs": [],
   "source": [
    "for i in range(len(test_detail)):\n",
    "    l = test_detail.amenities[i][1:-1].split(',')\n",
    "    for a in amenities_list_dict.keys():\n",
    "        if a in l:\n",
    "            amenities_list_dict_test[a].append(1)\n",
    "        else:\n",
    "            amenities_list_dict_test[a].append(0)"
   ]
  },
  {
   "cell_type": "code",
   "execution_count": 261,
   "metadata": {
    "collapsed": true
   },
   "outputs": [],
   "source": [
    "amenities_table_test = pd.DataFrame(amenities_list_dict_test)\n",
    "amenities_table_test = amenities_table_test.drop([''],axis=1)"
   ]
  },
  {
   "cell_type": "code",
   "execution_count": 262,
   "metadata": {},
   "outputs": [
    {
     "data": {
      "text/html": [
       "<div>\n",
       "<style scoped>\n",
       "    .dataframe tbody tr th:only-of-type {\n",
       "        vertical-align: middle;\n",
       "    }\n",
       "\n",
       "    .dataframe tbody tr th {\n",
       "        vertical-align: top;\n",
       "    }\n",
       "\n",
       "    .dataframe thead th {\n",
       "        text-align: right;\n",
       "    }\n",
       "</style>\n",
       "<table border=\"1\" class=\"dataframe\">\n",
       "  <thead>\n",
       "    <tr style=\"text-align: right;\">\n",
       "      <th></th>\n",
       "      <th>smooth pathway to front door\"</th>\n",
       "      <th>\"24-hour check-in\"</th>\n",
       "      <th>\"Accessible-height bed\"</th>\n",
       "      <th>\"Accessible-height toilet\"</th>\n",
       "      <th>\"Air conditioning\"</th>\n",
       "      <th>\"Air purifier\"</th>\n",
       "      <th>\"BBQ grill\"</th>\n",
       "      <th>\"Baby bath\"</th>\n",
       "      <th>\"Baby monitor\"</th>\n",
       "      <th>\"Babysitter recommendations\"</th>\n",
       "      <th>...</th>\n",
       "      <th>Other</th>\n",
       "      <th>Oven</th>\n",
       "      <th>Pool</th>\n",
       "      <th>Refrigerator</th>\n",
       "      <th>Shampoo</th>\n",
       "      <th>Smartlock</th>\n",
       "      <th>Stove</th>\n",
       "      <th>TV</th>\n",
       "      <th>Washer</th>\n",
       "      <th>Waterfront</th>\n",
       "    </tr>\n",
       "  </thead>\n",
       "  <tbody>\n",
       "    <tr>\n",
       "      <th>0</th>\n",
       "      <td>0</td>\n",
       "      <td>0</td>\n",
       "      <td>0</td>\n",
       "      <td>0</td>\n",
       "      <td>0</td>\n",
       "      <td>0</td>\n",
       "      <td>0</td>\n",
       "      <td>0</td>\n",
       "      <td>0</td>\n",
       "      <td>0</td>\n",
       "      <td>...</td>\n",
       "      <td>0</td>\n",
       "      <td>0</td>\n",
       "      <td>0</td>\n",
       "      <td>0</td>\n",
       "      <td>1</td>\n",
       "      <td>0</td>\n",
       "      <td>0</td>\n",
       "      <td>1</td>\n",
       "      <td>1</td>\n",
       "      <td>0</td>\n",
       "    </tr>\n",
       "    <tr>\n",
       "      <th>1</th>\n",
       "      <td>0</td>\n",
       "      <td>0</td>\n",
       "      <td>0</td>\n",
       "      <td>0</td>\n",
       "      <td>1</td>\n",
       "      <td>0</td>\n",
       "      <td>0</td>\n",
       "      <td>0</td>\n",
       "      <td>0</td>\n",
       "      <td>0</td>\n",
       "      <td>...</td>\n",
       "      <td>0</td>\n",
       "      <td>0</td>\n",
       "      <td>0</td>\n",
       "      <td>0</td>\n",
       "      <td>0</td>\n",
       "      <td>0</td>\n",
       "      <td>0</td>\n",
       "      <td>1</td>\n",
       "      <td>1</td>\n",
       "      <td>0</td>\n",
       "    </tr>\n",
       "    <tr>\n",
       "      <th>2</th>\n",
       "      <td>0</td>\n",
       "      <td>0</td>\n",
       "      <td>0</td>\n",
       "      <td>0</td>\n",
       "      <td>0</td>\n",
       "      <td>0</td>\n",
       "      <td>0</td>\n",
       "      <td>0</td>\n",
       "      <td>0</td>\n",
       "      <td>0</td>\n",
       "      <td>...</td>\n",
       "      <td>0</td>\n",
       "      <td>0</td>\n",
       "      <td>0</td>\n",
       "      <td>0</td>\n",
       "      <td>1</td>\n",
       "      <td>0</td>\n",
       "      <td>0</td>\n",
       "      <td>0</td>\n",
       "      <td>0</td>\n",
       "      <td>0</td>\n",
       "    </tr>\n",
       "    <tr>\n",
       "      <th>3</th>\n",
       "      <td>0</td>\n",
       "      <td>1</td>\n",
       "      <td>0</td>\n",
       "      <td>0</td>\n",
       "      <td>0</td>\n",
       "      <td>0</td>\n",
       "      <td>0</td>\n",
       "      <td>0</td>\n",
       "      <td>0</td>\n",
       "      <td>0</td>\n",
       "      <td>...</td>\n",
       "      <td>0</td>\n",
       "      <td>0</td>\n",
       "      <td>0</td>\n",
       "      <td>0</td>\n",
       "      <td>1</td>\n",
       "      <td>0</td>\n",
       "      <td>0</td>\n",
       "      <td>1</td>\n",
       "      <td>1</td>\n",
       "      <td>0</td>\n",
       "    </tr>\n",
       "    <tr>\n",
       "      <th>4</th>\n",
       "      <td>0</td>\n",
       "      <td>0</td>\n",
       "      <td>0</td>\n",
       "      <td>0</td>\n",
       "      <td>1</td>\n",
       "      <td>0</td>\n",
       "      <td>0</td>\n",
       "      <td>0</td>\n",
       "      <td>0</td>\n",
       "      <td>0</td>\n",
       "      <td>...</td>\n",
       "      <td>0</td>\n",
       "      <td>0</td>\n",
       "      <td>0</td>\n",
       "      <td>0</td>\n",
       "      <td>1</td>\n",
       "      <td>0</td>\n",
       "      <td>0</td>\n",
       "      <td>1</td>\n",
       "      <td>0</td>\n",
       "      <td>0</td>\n",
       "    </tr>\n",
       "  </tbody>\n",
       "</table>\n",
       "<p>5 rows × 130 columns</p>\n",
       "</div>"
      ],
      "text/plain": [
       "    smooth pathway to front door\"  \"24-hour check-in\"  \\\n",
       "0                               0                   0   \n",
       "1                               0                   0   \n",
       "2                               0                   0   \n",
       "3                               0                   1   \n",
       "4                               0                   0   \n",
       "\n",
       "   \"Accessible-height bed\"  \"Accessible-height toilet\"  \"Air conditioning\"  \\\n",
       "0                        0                           0                   0   \n",
       "1                        0                           0                   1   \n",
       "2                        0                           0                   0   \n",
       "3                        0                           0                   0   \n",
       "4                        0                           0                   1   \n",
       "\n",
       "   \"Air purifier\"  \"BBQ grill\"  \"Baby bath\"  \"Baby monitor\"  \\\n",
       "0               0            0            0               0   \n",
       "1               0            0            0               0   \n",
       "2               0            0            0               0   \n",
       "3               0            0            0               0   \n",
       "4               0            0            0               0   \n",
       "\n",
       "   \"Babysitter recommendations\"     ...      Other  Oven  Pool  Refrigerator  \\\n",
       "0                             0     ...          0     0     0             0   \n",
       "1                             0     ...          0     0     0             0   \n",
       "2                             0     ...          0     0     0             0   \n",
       "3                             0     ...          0     0     0             0   \n",
       "4                             0     ...          0     0     0             0   \n",
       "\n",
       "   Shampoo  Smartlock  Stove  TV  Washer  Waterfront  \n",
       "0        1          0      0   1       1           0  \n",
       "1        0          0      0   1       1           0  \n",
       "2        1          0      0   0       0           0  \n",
       "3        1          0      0   1       1           0  \n",
       "4        1          0      0   1       0           0  \n",
       "\n",
       "[5 rows x 130 columns]"
      ]
     },
     "execution_count": 262,
     "metadata": {},
     "output_type": "execute_result"
    }
   ],
   "source": [
    "amenities_table_test.head()"
   ]
  },
  {
   "cell_type": "code",
   "execution_count": 263,
   "metadata": {
    "collapsed": true
   },
   "outputs": [],
   "source": [
    "train_detail = pd.concat([train_detail, amenities_table_train], axis=1)"
   ]
  },
  {
   "cell_type": "code",
   "execution_count": 264,
   "metadata": {
    "collapsed": true
   },
   "outputs": [],
   "source": [
    "test_detail = pd.concat([test_detail, amenities_table_test], axis=1)"
   ]
  },
  {
   "cell_type": "code",
   "execution_count": 265,
   "metadata": {},
   "outputs": [
    {
     "data": {
      "text/html": [
       "<div>\n",
       "<style scoped>\n",
       "    .dataframe tbody tr th:only-of-type {\n",
       "        vertical-align: middle;\n",
       "    }\n",
       "\n",
       "    .dataframe tbody tr th {\n",
       "        vertical-align: top;\n",
       "    }\n",
       "\n",
       "    .dataframe thead th {\n",
       "        text-align: right;\n",
       "    }\n",
       "</style>\n",
       "<table border=\"1\" class=\"dataframe\">\n",
       "  <thead>\n",
       "    <tr style=\"text-align: right;\">\n",
       "      <th></th>\n",
       "      <th>Feature Names</th>\n",
       "      <th>Missing Count</th>\n",
       "      <th>Missing Percentage(%)</th>\n",
       "    </tr>\n",
       "  </thead>\n",
       "  <tbody>\n",
       "    <tr>\n",
       "      <th>0</th>\n",
       "      <td>zhvi</td>\n",
       "      <td>3468</td>\n",
       "      <td>4.679467</td>\n",
       "    </tr>\n",
       "  </tbody>\n",
       "</table>\n",
       "</div>"
      ],
      "text/plain": [
       "  Feature Names  Missing Count  Missing Percentage(%)\n",
       "0          zhvi           3468               4.679467"
      ]
     },
     "execution_count": 265,
     "metadata": {},
     "output_type": "execute_result"
    }
   ],
   "source": [
    "missing_value_analysis(train_detail)"
   ]
  },
  {
   "cell_type": "code",
   "execution_count": null,
   "metadata": {
    "collapsed": true
   },
   "outputs": [],
   "source": []
  },
  {
   "cell_type": "code",
   "execution_count": 266,
   "metadata": {},
   "outputs": [
    {
     "data": {
      "text/html": [
       "<div>\n",
       "<style scoped>\n",
       "    .dataframe tbody tr th:only-of-type {\n",
       "        vertical-align: middle;\n",
       "    }\n",
       "\n",
       "    .dataframe tbody tr th {\n",
       "        vertical-align: top;\n",
       "    }\n",
       "\n",
       "    .dataframe thead th {\n",
       "        text-align: right;\n",
       "    }\n",
       "</style>\n",
       "<table border=\"1\" class=\"dataframe\">\n",
       "  <thead>\n",
       "    <tr style=\"text-align: right;\">\n",
       "      <th></th>\n",
       "      <th>Feature Names</th>\n",
       "      <th>Missing Count</th>\n",
       "      <th>Missing Percentage(%)</th>\n",
       "    </tr>\n",
       "  </thead>\n",
       "  <tbody>\n",
       "    <tr>\n",
       "      <th>0</th>\n",
       "      <td>zhvi</td>\n",
       "      <td>1175</td>\n",
       "      <td>4.615445</td>\n",
       "    </tr>\n",
       "  </tbody>\n",
       "</table>\n",
       "</div>"
      ],
      "text/plain": [
       "  Feature Names  Missing Count  Missing Percentage(%)\n",
       "0          zhvi           1175               4.615445"
      ]
     },
     "execution_count": 266,
     "metadata": {},
     "output_type": "execute_result"
    }
   ],
   "source": [
    "## Missing Value analysis\n",
    "missing_value_analysis(test_detail)"
   ]
  },
  {
   "cell_type": "code",
   "execution_count": 267,
   "metadata": {},
   "outputs": [
    {
     "name": "stdout",
     "output_type": "stream",
     "text": [
      "There are 74111 rows and 162 columns in cleansed train dataset\n"
     ]
    }
   ],
   "source": [
    "print(\"There are {} rows and {} columns in cleansed train dataset\".format(train_detail.shape[0],train_detail.shape[1]))"
   ]
  },
  {
   "cell_type": "code",
   "execution_count": 268,
   "metadata": {},
   "outputs": [
    {
     "name": "stdout",
     "output_type": "stream",
     "text": [
      "There are 25458 rows and 161 columns in cleansed test dataset\n"
     ]
    }
   ],
   "source": [
    "print(\"There are {} rows and {} columns in cleansed test dataset\".format(test_detail.shape[0],test_detail.shape[1]))"
   ]
  },
  {
   "cell_type": "code",
   "execution_count": 269,
   "metadata": {},
   "outputs": [
    {
     "name": "stdout",
     "output_type": "stream",
     "text": [
      "C:\\Users\\ydupis\\Documents\\Data-Science\\Competition\\AirBnbPrediction\\data\\interim\n"
     ]
    }
   ],
   "source": [
    "## Saving Cleansed data to Interim folder\n",
    "#Change Directory to data/raw\n",
    "os.chdir(\"{}data/interim\".format(rootDirectory))\n",
    "print(os.getcwd())\n",
    "\n",
    "to_write_train = 'train_preprocessed_interim.csv'\n",
    "to_write_test = 'test_preprocessed_interim.csv'\n",
    "\n",
    "train_detail.to_csv(to_write_train, encoding='utf-8')\n",
    "test_detail.to_csv(to_write_test, encoding='utf-8')"
   ]
  },
  {
   "cell_type": "code",
   "execution_count": null,
   "metadata": {
    "collapsed": true
   },
   "outputs": [],
   "source": []
  },
  {
   "cell_type": "code",
   "execution_count": null,
   "metadata": {
    "collapsed": true
   },
   "outputs": [],
   "source": []
  }
 ],
 "metadata": {
  "kernelspec": {
   "display_name": "Python 3",
   "language": "python",
   "name": "python3"
  },
  "language_info": {
   "codemirror_mode": {
    "name": "ipython",
    "version": 3
   },
   "file_extension": ".py",
   "mimetype": "text/x-python",
   "name": "python",
   "nbconvert_exporter": "python",
   "pygments_lexer": "ipython3",
   "version": "3.6.1"
  }
 },
 "nbformat": 4,
 "nbformat_minor": 2
}
