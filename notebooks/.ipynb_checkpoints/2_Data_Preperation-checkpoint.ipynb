{
 "cells": [
  {
   "cell_type": "markdown",
   "metadata": {},
   "source": [
    "> This notebook will be focussing on pre-processing and shaping the provided & external datasets in a clean format so that they can used by the model directly. This will be the interim stage of our data pipeline"
   ]
  },
  {
   "cell_type": "code",
   "execution_count": 1,
   "metadata": {
    "collapsed": true
   },
   "outputs": [],
   "source": [
    "# Import libraries necessary for this project\n",
    "import numpy as np\n",
    "import pandas as pd\n",
    "from IPython.display import display # Allows the use of display() for DataFrames\n",
    "import matplotlib.pyplot as plt\n",
    "import seaborn as sns\n",
    "import math\n",
    "\n",
    "# Baseline SK Learn Model\n",
    "from sklearn.preprocessing import MinMaxScaler\n",
    "from sklearn.metrics import mean_squared_error, mean_absolute_error\n",
    "from sklearn.model_selection import cross_val_score, KFold, StratifiedKFold, StratifiedShuffleSplit\n",
    "from sklearn.preprocessing import StandardScaler\n",
    "from sklearn.pipeline import Pipeline\n",
    "from sklearn.preprocessing import Imputer\n",
    "\n",
    "from scipy.stats import skew\n",
    "\n",
    "# Import OS module\n",
    "import os"
   ]
  },
  {
   "cell_type": "code",
   "execution_count": 2,
   "metadata": {},
   "outputs": [
    {
     "name": "stdout",
     "output_type": "stream",
     "text": [
      "C:\\Users\\rtilekar\\Desktop\\AirBnB_challenge\\AirBnbPrediction\\data\n"
     ]
    }
   ],
   "source": [
    "# Create Root Directory\n",
    "rootDirectory = str(os.path.abspath('..'))\n",
    "\n",
    "# Change Directory to data/raw\n",
    "os.chdir(\"{}/data\".format(rootDirectory))\n",
    "print(os.getcwd())"
   ]
  },
  {
   "cell_type": "markdown",
   "metadata": {},
   "source": [
    "### Make Zillow Data"
   ]
  },
  {
   "cell_type": "markdown",
   "metadata": {},
   "source": [
    "> Intuitively, the price for a similar Airbnb can be very different depending on the city and neighborhood. For example, Soho is known to be one of the most expensive places to live in NYC. The neighborhood and zip code field can help measure the cost of living for different locations. However, the dataset contains 770 different neighborhoods and 620 zip codes.<br><br>\n",
    "> The large number of categorical variables would make it difficult for the model to extract valuable information in order to predict Airbnb price. One piece of information that must be highly correlated with AirBnB price, and at the same time measure the cost of living of the neighborhood, is the housing price. Luckily, the Zillow website has created a Zillow Value Home Index (ZHVI) by zip code. The ZHVI tracks the monthly median home value in a particular geographical region, in our case a zip code. You can find the dataset on [Zillow's website](https://www.zillow.com/research/data).\n"
   ]
  },
  {
   "cell_type": "code",
   "execution_count": 3,
   "metadata": {},
   "outputs": [
    {
     "name": "stdout",
     "output_type": "stream",
     "text": [
      "Zillow data Shape: (354, 3)\n",
      "Make Zillow Dataset Complete\n"
     ]
    }
   ],
   "source": [
    "    # Zillow data import\n",
    "    zillow_filename = '/data/external/Zip_Zhvi_Summary_AllHomes.csv'\n",
    "    zillow = pd.read_csv(rootDirectory + zillow_filename)\n",
    "    zillow = zillow[['RegionName','City','Zhvi']]\n",
    "    zillow = zillow[(zillow.City =='Boston') | (zillow.City =='Chicago') | (zillow.City =='San Francisco') |\n",
    "        (zillow.City =='Los Angeles') | (zillow.City =='Washington') | (zillow.City =='New York') ]\n",
    "\n",
    "    # Rename cities name to match the Zillow dataset and train dataset\n",
    "    name_map = {'New York':'NYC','San Francisco':'SF','Los Angeles':'LA','Washington':'DC','Chicago':'Chicago','Boston':'Boston'}\n",
    "\n",
    "    zillow['City'] = zillow['City'].apply(lambda x:name_map[x])\n",
    "\n",
    "    # Apply log to the Zillow home value index\n",
    "    zillow['Zhvi'] = zillow['Zhvi'].apply(lambda x:np.log(x))\n",
    "\n",
    "    # Rename column to be able to merge\n",
    "    zillow.columns = ['zipcode','city','zhvi']\n",
    "    # Change data type to be able to merge\n",
    "    zillow['zipcode']= zillow['zipcode'].astype('str')\n",
    "\n",
    "    print(\"Zillow data Shape: {}\".format(zillow.shape))\n",
    "\n",
    "    zillow.to_csv(rootDirectory + '/data/interim/zillow_ready.csv', index=False, encoding='utf-8')\n",
    "\n",
    "    print(\"Make Zillow Dataset Complete\")\n",
    "        "
   ]
  },
  {
   "cell_type": "code",
   "execution_count": 4,
   "metadata": {
    "collapsed": true
   },
   "outputs": [],
   "source": [
    "# Load dataset for exloratory analysis\n",
    "#Define file name\n",
    "train_filename = '/data/raw/train.csv'\n",
    "test_filename = '/data/raw/test.csv'\n",
    "sample_filename = '/data/raw/sample_submission.csv'\n",
    "zillow_filename = '/data/interim/zillow_ready.csv'\n",
    "\n",
    "#Read CSV file\n",
    "train_detail =  pd.read_csv(rootDirectory + train_filename)\n",
    "test_detail =  pd.read_csv(rootDirectory + test_filename)\n",
    "sample_detail=  pd.read_csv(rootDirectory + sample_filename)\n",
    "zillow=  pd.read_csv(rootDirectory + zillow_filename)"
   ]
  },
  {
   "cell_type": "code",
   "execution_count": 5,
   "metadata": {},
   "outputs": [
    {
     "name": "stdout",
     "output_type": "stream",
     "text": [
      "There are 74111 rows and 29 columns in train dataset\n",
      "There are 25458 rows and 28 columns in test dataset\n"
     ]
    }
   ],
   "source": [
    "print(\"There are {} rows and {} columns in train dataset\".format(train_detail.shape[0],train_detail.shape[1]))\n",
    "print(\"There are {} rows and {} columns in test dataset\".format(test_detail.shape[0],test_detail.shape[1]))"
   ]
  },
  {
   "cell_type": "markdown",
   "metadata": {},
   "source": [
    "### Missing Value Analysis"
   ]
  },
  {
   "cell_type": "markdown",
   "metadata": {},
   "source": [
    "> Function missing_value_analysis() will gives us a list of features along with the numbers & percentage of missing values in each of the featues."
   ]
  },
  {
   "cell_type": "code",
   "execution_count": 6,
   "metadata": {
    "collapsed": true
   },
   "outputs": [],
   "source": [
    "## Missing Value analysis\n",
    "def missing_value_analysis(df):\n",
    "    list_null_num = len(df.index) - df.count()\n",
    "    list_null_perc = ((len(df.index) - df.count()) / df.shape[0]) * 100\n",
    "    list_null_num = list_null_num.sort_values(ascending=False)\n",
    "    list_null_perc = list_null_perc.sort_values(ascending=False)\n",
    "\n",
    "    missing_df = pd.DataFrame({'Missing Count':list_null_num,\n",
    "                             'Missing Percentage(%)':list_null_perc})\n",
    "    missing_df.index.name = 'Feature Names'\n",
    "    missing_df.reset_index(inplace=True)\n",
    "    missing_df_final = missing_df[missing_df['Missing Count'] > 0]\n",
    "    return missing_df_final"
   ]
  },
  {
   "cell_type": "code",
   "execution_count": 7,
   "metadata": {
    "scrolled": false
   },
   "outputs": [
    {
     "data": {
      "text/html": [
       "<div>\n",
       "<style>\n",
       "    .dataframe thead tr:only-child th {\n",
       "        text-align: right;\n",
       "    }\n",
       "\n",
       "    .dataframe thead th {\n",
       "        text-align: left;\n",
       "    }\n",
       "\n",
       "    .dataframe tbody tr th {\n",
       "        vertical-align: top;\n",
       "    }\n",
       "</style>\n",
       "<table border=\"1\" class=\"dataframe\">\n",
       "  <thead>\n",
       "    <tr style=\"text-align: right;\">\n",
       "      <th></th>\n",
       "      <th>Feature Names</th>\n",
       "      <th>Missing Count</th>\n",
       "      <th>Missing Percentage(%)</th>\n",
       "    </tr>\n",
       "  </thead>\n",
       "  <tbody>\n",
       "    <tr>\n",
       "      <th>0</th>\n",
       "      <td>host_response_rate</td>\n",
       "      <td>18299</td>\n",
       "      <td>24.691341</td>\n",
       "    </tr>\n",
       "    <tr>\n",
       "      <th>1</th>\n",
       "      <td>review_scores_rating</td>\n",
       "      <td>16722</td>\n",
       "      <td>22.563452</td>\n",
       "    </tr>\n",
       "    <tr>\n",
       "      <th>2</th>\n",
       "      <td>first_review</td>\n",
       "      <td>15864</td>\n",
       "      <td>21.405729</td>\n",
       "    </tr>\n",
       "    <tr>\n",
       "      <th>3</th>\n",
       "      <td>last_review</td>\n",
       "      <td>15827</td>\n",
       "      <td>21.355804</td>\n",
       "    </tr>\n",
       "    <tr>\n",
       "      <th>4</th>\n",
       "      <td>thumbnail_url</td>\n",
       "      <td>8216</td>\n",
       "      <td>11.086074</td>\n",
       "    </tr>\n",
       "    <tr>\n",
       "      <th>5</th>\n",
       "      <td>neighbourhood</td>\n",
       "      <td>6872</td>\n",
       "      <td>9.272578</td>\n",
       "    </tr>\n",
       "    <tr>\n",
       "      <th>6</th>\n",
       "      <td>zipcode</td>\n",
       "      <td>966</td>\n",
       "      <td>1.303450</td>\n",
       "    </tr>\n",
       "    <tr>\n",
       "      <th>7</th>\n",
       "      <td>bathrooms</td>\n",
       "      <td>200</td>\n",
       "      <td>0.269865</td>\n",
       "    </tr>\n",
       "    <tr>\n",
       "      <th>8</th>\n",
       "      <td>host_identity_verified</td>\n",
       "      <td>188</td>\n",
       "      <td>0.253674</td>\n",
       "    </tr>\n",
       "    <tr>\n",
       "      <th>9</th>\n",
       "      <td>host_since</td>\n",
       "      <td>188</td>\n",
       "      <td>0.253674</td>\n",
       "    </tr>\n",
       "    <tr>\n",
       "      <th>10</th>\n",
       "      <td>host_has_profile_pic</td>\n",
       "      <td>188</td>\n",
       "      <td>0.253674</td>\n",
       "    </tr>\n",
       "    <tr>\n",
       "      <th>11</th>\n",
       "      <td>beds</td>\n",
       "      <td>131</td>\n",
       "      <td>0.176762</td>\n",
       "    </tr>\n",
       "    <tr>\n",
       "      <th>12</th>\n",
       "      <td>bedrooms</td>\n",
       "      <td>91</td>\n",
       "      <td>0.122789</td>\n",
       "    </tr>\n",
       "  </tbody>\n",
       "</table>\n",
       "</div>"
      ],
      "text/plain": [
       "             Feature Names  Missing Count  Missing Percentage(%)\n",
       "0       host_response_rate          18299              24.691341\n",
       "1     review_scores_rating          16722              22.563452\n",
       "2             first_review          15864              21.405729\n",
       "3              last_review          15827              21.355804\n",
       "4            thumbnail_url           8216              11.086074\n",
       "5            neighbourhood           6872               9.272578\n",
       "6                  zipcode            966               1.303450\n",
       "7                bathrooms            200               0.269865\n",
       "8   host_identity_verified            188               0.253674\n",
       "9               host_since            188               0.253674\n",
       "10    host_has_profile_pic            188               0.253674\n",
       "11                    beds            131               0.176762\n",
       "12                bedrooms             91               0.122789"
      ]
     },
     "execution_count": 7,
     "metadata": {},
     "output_type": "execute_result"
    }
   ],
   "source": [
    "missing_value_analysis(train_detail)"
   ]
  },
  {
   "cell_type": "markdown",
   "metadata": {},
   "source": [
    "> There are 12 columns out of 29 columns in our training data which has missing values. \n",
    "\n",
    "> From the above table we have these observation - <br>\n",
    "1. For features host_response_rate and review_scores_rating, more than 22% of the values are missing\n",
    "    - **Imputation Strategy -** For host_response_rate we are going to replace all the missing values with the median of the feature. Whereas, as review_score_rating might have an impact on the price, we are going to replace the missing values with the mean of the column\n",
    "<br> <br>\n",
    "2. For dates related features such as first_review and last_review have more than 20% as missing values, whereas for host_since we have hardly 0.3% missung values\n",
    "    - **Imputation Strategy -** We will replace the missing values in these features with 'Not available'\n",
    "<br><br>\n",
    "3. For features neighbourhood and zipcode we have 9% and 1% missing values respectively.\n",
    "    - **Imputation Strategy -** As the number of missing values are less, we will impute the missing values with 'not provided'\n",
    "<br><br>\n",
    "4. For features bathrooms, host_identity_verified, host_since, host_has_profile_pic, beds and bedrooms we have less than 1% missing values\n",
    "    - **Imputation Strategy -** We will impute the missing values in these features with the median of the respective feature"
   ]
  },
  {
   "cell_type": "markdown",
   "metadata": {},
   "source": [
    "### Missing Value Imputation"
   ]
  },
  {
   "cell_type": "code",
   "execution_count": 8,
   "metadata": {
    "collapsed": true
   },
   "outputs": [],
   "source": [
    "\n",
    "def feature_engineering(data):\n",
    "    \n",
    "    #numeric_feats = data.dtypes[data.dtypes != \"object\"].index\n",
    "    #numeric_to_exlude = ['id','latitude','longitude','log_price']\n",
    "    #numeric_feats_final = [el for el in numeric_feats if el not in numeric_to_exlude]\n",
    "    #numeric_feats_final = list(set(numeric_feats) - set(numeric_to_exlude))\n",
    "    #print(numeric_feats_final)\n",
    "    #print(numeric_feats_final)\n",
    "\n",
    "    #skewed_feats = data[numeric_feats_final].apply(lambda x: skew(x.dropna())) #compute skewness\n",
    "    #skewed_feats = skewed_feats[skewed_feats > 0.75]\n",
    "    #skewed_feats = skewed_feats.index\n",
    "\n",
    "    #data[skewed_feats] = np.log1p(data[skewed_feats])\n",
    "\n",
    "    ## Initializing the imputer \n",
    "    imp_mean = Imputer(missing_values= 'NaN', strategy= 'mean', axis= 0)\n",
    "    imp_median = Imputer(missing_values= 'NaN', strategy= 'median', axis= 0)\n",
    "    imp_most_frequent = Imputer(missing_values= 'NaN', strategy= 'most_frequent', axis= 0)\n",
    "\n",
    "    ## Imputing Host_response_rate\n",
    "    # convert formatting for host_response_rate, removing % signs\n",
    "    data['host_response_rate'] = (data['host_response_rate'].str.replace(r'[^-+\\d.]', '').astype(float))\n",
    "    data['host_response_rate'] = imp_median.fit_transform(data[['host_response_rate']])\n",
    "\n",
    "    ## Imputing review_scores_rating\n",
    "    data['review_scores_rating'] = imp_mean.fit_transform(data[['review_scores_rating']]).astype(int)\n",
    "\n",
    "    ## replace NaN by 'NO Date' and treat the missing values correctly\n",
    "    data['neighbourhood'] = data['neighbourhood'].replace(np.NaN,'not provided')\n",
    "    data['zipcode'] = data['zipcode'].replace(np.NaN,'not provided')\n",
    "\n",
    "    ## Imputing Bathrooms and bedrooms variables\n",
    "    data['bathrooms'] = imp_median.fit_transform(data[['bathrooms']]).astype(int)\n",
    "    data['bedrooms'] = imp_median.fit_transform(data[['bedrooms']]).astype(int)\n",
    "    data['beds'] = imp_median.fit_transform(data[['beds']]).astype(int)\n",
    "\n",
    "    ## Most frequent \n",
    "    data['host_identity_verified'] = data['host_identity_verified'].replace(['t','f'],[1,0])\n",
    "    host_identity_verified_median = data[\"host_identity_verified\"].median()\n",
    "    data['host_identity_verified'] = data['host_identity_verified'].replace([np.NaN],[host_identity_verified_median]).astype(int)\n",
    "\n",
    "    data['host_has_profile_pic'] = data['host_has_profile_pic'].replace(['t','f'],[1,0])\n",
    "    host_has_profile_pic_median = data[\"host_has_profile_pic\"].median()\n",
    "    data['host_has_profile_pic'] = data['host_has_profile_pic'].replace([np.NaN],[host_has_profile_pic_median]).astype(int)\n",
    "    \n",
    "    # Count the number of aminities \n",
    "    data['amenities_count'] = data['amenities'].apply(lambda x: len(x.split()))\n",
    "    \n",
    "    data['name'] = data['name'].replace([np.NaN],[\"Not Provided\"])\n",
    "    \n",
    "    # Count the number of words in the description\n",
    "    data['description'] = data['description'].replace([np.NaN],[\"Not Provided\"])\n",
    "    data['description_length'] = data['description'].apply(lambda x: len(x.split()))\n",
    "    \n",
    "    # Replace True and False with 1 and 0\n",
    "    data['cleaning_fee'] = data['cleaning_fee'].apply(lambda x: 1 if x==True else 0)\n",
    "    \n",
    "    # Replcase existing thumbnail by 1 and missig thumbnail by 0\n",
    "    data['thumbnail_url'].loc[data['thumbnail_url'].notnull()] = 1\n",
    "    data['thumbnail_url'].loc[data['thumbnail_url'].isnull()] = 0\n",
    "    \n",
    "    # Extract year from first_review field. Missing first_review date replaces by 9999\n",
    "    # For this variable we could create a dummy variable\n",
    "    data['first_review'].loc[data['first_review'].isnull()] = \"not provided\"\n",
    "    #data['first_review'] = data['first_review'].apply(lambda x: x[:4])\n",
    "    \n",
    "    data['last_review'].loc[data['last_review'].isnull()] = \"not provided\"\n",
    "    #data['last_review'] = data['last_review'].apply(lambda x: x[:4])\n",
    "    \n",
    "    data['host_since'].loc[data['host_since'].isnull()] = \"not provided\"\n",
    "    #data['host_since'] = data['host_since'].apply(lambda x: x[:4])\n",
    "\n",
    "    return data"
   ]
  },
  {
   "cell_type": "markdown",
   "metadata": {},
   "source": [
    "> Let's pre process our train and test data using the feature_engineering function above"
   ]
  },
  {
   "cell_type": "code",
   "execution_count": 9,
   "metadata": {},
   "outputs": [
    {
     "name": "stderr",
     "output_type": "stream",
     "text": [
      "C:\\Users\\rtilekar\\AppData\\Local\\Continuum\\anaconda3\\lib\\site-packages\\pandas\\core\\indexing.py:179: SettingWithCopyWarning: \n",
      "A value is trying to be set on a copy of a slice from a DataFrame\n",
      "\n",
      "See the caveats in the documentation: http://pandas.pydata.org/pandas-docs/stable/indexing.html#indexing-view-versus-copy\n",
      "  self._setitem_with_indexer(indexer, value)\n"
     ]
    }
   ],
   "source": [
    "train_detail = feature_engineering(train_detail)\n",
    "test_detail = feature_engineering(test_detail)"
   ]
  },
  {
   "cell_type": "markdown",
   "metadata": {},
   "source": [
    "### Merge Zillow data"
   ]
  },
  {
   "cell_type": "markdown",
   "metadata": {},
   "source": [
    "> We will now mergethe external zillow data with our train and test data using zipcode and city features"
   ]
  },
  {
   "cell_type": "code",
   "execution_count": 10,
   "metadata": {
    "collapsed": true
   },
   "outputs": [],
   "source": [
    "# Merge Zillow external data\n",
    "zillow['zipcode']= zillow['zipcode'].astype('str')\n",
    "\n",
    "train_detail = train_detail.merge(zillow,how='left', on = ['zipcode','city'])\n",
    "# Fill missing with mean by city\n",
    "train_detail[\"zhvi\"] = train_detail[['city','zhvi']].groupby(\"city\").transform(lambda x: x.fillna(x.mean()))\n",
    "\n",
    "test_detail = test_detail.merge(zillow,how='left', on = ['zipcode','city'])\n",
    "# Fill missing with mean by city\n",
    "test_detail[\"zhvi\"] = test_detail[['city','zhvi']].groupby(\"city\").transform(lambda x: x.fillna(x.mean()))"
   ]
  },
  {
   "cell_type": "code",
   "execution_count": 11,
   "metadata": {},
   "outputs": [
    {
     "data": {
      "text/html": [
       "<div>\n",
       "<style>\n",
       "    .dataframe thead tr:only-child th {\n",
       "        text-align: right;\n",
       "    }\n",
       "\n",
       "    .dataframe thead th {\n",
       "        text-align: left;\n",
       "    }\n",
       "\n",
       "    .dataframe tbody tr th {\n",
       "        vertical-align: top;\n",
       "    }\n",
       "</style>\n",
       "<table border=\"1\" class=\"dataframe\">\n",
       "  <thead>\n",
       "    <tr style=\"text-align: right;\">\n",
       "      <th></th>\n",
       "      <th>id</th>\n",
       "      <th>property_type</th>\n",
       "      <th>room_type</th>\n",
       "      <th>amenities</th>\n",
       "      <th>accommodates</th>\n",
       "      <th>bathrooms</th>\n",
       "      <th>bed_type</th>\n",
       "      <th>cancellation_policy</th>\n",
       "      <th>cleaning_fee</th>\n",
       "      <th>city</th>\n",
       "      <th>...</th>\n",
       "      <th>neighbourhood</th>\n",
       "      <th>number_of_reviews</th>\n",
       "      <th>review_scores_rating</th>\n",
       "      <th>thumbnail_url</th>\n",
       "      <th>zipcode</th>\n",
       "      <th>bedrooms</th>\n",
       "      <th>beds</th>\n",
       "      <th>amenities_count</th>\n",
       "      <th>description_length</th>\n",
       "      <th>zhvi</th>\n",
       "    </tr>\n",
       "  </thead>\n",
       "  <tbody>\n",
       "    <tr>\n",
       "      <th>0</th>\n",
       "      <td>3895911</td>\n",
       "      <td>Apartment</td>\n",
       "      <td>Private room</td>\n",
       "      <td>{TV,\"Cable TV\",Kitchen,\"Free parking on premis...</td>\n",
       "      <td>2</td>\n",
       "      <td>1</td>\n",
       "      <td>Real Bed</td>\n",
       "      <td>flexible</td>\n",
       "      <td>1</td>\n",
       "      <td>LA</td>\n",
       "      <td>...</td>\n",
       "      <td>Santa Monica</td>\n",
       "      <td>6</td>\n",
       "      <td>97</td>\n",
       "      <td>1</td>\n",
       "      <td>90403</td>\n",
       "      <td>1</td>\n",
       "      <td>1</td>\n",
       "      <td>19</td>\n",
       "      <td>172</td>\n",
       "      <td>13.804182</td>\n",
       "    </tr>\n",
       "    <tr>\n",
       "      <th>1</th>\n",
       "      <td>9710289</td>\n",
       "      <td>Apartment</td>\n",
       "      <td>Entire home/apt</td>\n",
       "      <td>{TV,\"Cable TV\",\"Wireless Internet\",\"Air condit...</td>\n",
       "      <td>3</td>\n",
       "      <td>1</td>\n",
       "      <td>Real Bed</td>\n",
       "      <td>moderate</td>\n",
       "      <td>1</td>\n",
       "      <td>NYC</td>\n",
       "      <td>...</td>\n",
       "      <td>Williamsburg</td>\n",
       "      <td>2</td>\n",
       "      <td>80</td>\n",
       "      <td>1</td>\n",
       "      <td>11222</td>\n",
       "      <td>1</td>\n",
       "      <td>1</td>\n",
       "      <td>17</td>\n",
       "      <td>164</td>\n",
       "      <td>13.806167</td>\n",
       "    </tr>\n",
       "    <tr>\n",
       "      <th>2</th>\n",
       "      <td>9051635</td>\n",
       "      <td>Apartment</td>\n",
       "      <td>Private room</td>\n",
       "      <td>{\"Wireless Internet\",Kitchen,Heating,\"Family/k...</td>\n",
       "      <td>1</td>\n",
       "      <td>1</td>\n",
       "      <td>Real Bed</td>\n",
       "      <td>moderate</td>\n",
       "      <td>1</td>\n",
       "      <td>SF</td>\n",
       "      <td>...</td>\n",
       "      <td>Richmond District</td>\n",
       "      <td>2</td>\n",
       "      <td>100</td>\n",
       "      <td>1</td>\n",
       "      <td>94118</td>\n",
       "      <td>1</td>\n",
       "      <td>1</td>\n",
       "      <td>13</td>\n",
       "      <td>78</td>\n",
       "      <td>14.489577</td>\n",
       "    </tr>\n",
       "    <tr>\n",
       "      <th>3</th>\n",
       "      <td>708374</td>\n",
       "      <td>Apartment</td>\n",
       "      <td>Entire home/apt</td>\n",
       "      <td>{TV,\"Cable TV\",Internet,\"Wireless Internet\",\"W...</td>\n",
       "      <td>1</td>\n",
       "      <td>1</td>\n",
       "      <td>Real Bed</td>\n",
       "      <td>strict</td>\n",
       "      <td>1</td>\n",
       "      <td>LA</td>\n",
       "      <td>...</td>\n",
       "      <td>Marina Del Rey</td>\n",
       "      <td>7</td>\n",
       "      <td>94</td>\n",
       "      <td>1</td>\n",
       "      <td>90292</td>\n",
       "      <td>0</td>\n",
       "      <td>1</td>\n",
       "      <td>15</td>\n",
       "      <td>166</td>\n",
       "      <td>13.830892</td>\n",
       "    </tr>\n",
       "    <tr>\n",
       "      <th>4</th>\n",
       "      <td>626296</td>\n",
       "      <td>Apartment</td>\n",
       "      <td>Entire home/apt</td>\n",
       "      <td>{TV,Internet,\"Wireless Internet\",\"Air conditio...</td>\n",
       "      <td>2</td>\n",
       "      <td>1</td>\n",
       "      <td>Real Bed</td>\n",
       "      <td>flexible</td>\n",
       "      <td>1</td>\n",
       "      <td>NYC</td>\n",
       "      <td>...</td>\n",
       "      <td>West Village</td>\n",
       "      <td>0</td>\n",
       "      <td>94</td>\n",
       "      <td>1</td>\n",
       "      <td>10014</td>\n",
       "      <td>1</td>\n",
       "      <td>1</td>\n",
       "      <td>14</td>\n",
       "      <td>47</td>\n",
       "      <td>14.247098</td>\n",
       "    </tr>\n",
       "  </tbody>\n",
       "</table>\n",
       "<p>5 rows × 31 columns</p>\n",
       "</div>"
      ],
      "text/plain": [
       "        id property_type        room_type  \\\n",
       "0  3895911     Apartment     Private room   \n",
       "1  9710289     Apartment  Entire home/apt   \n",
       "2  9051635     Apartment     Private room   \n",
       "3   708374     Apartment  Entire home/apt   \n",
       "4   626296     Apartment  Entire home/apt   \n",
       "\n",
       "                                           amenities  accommodates  bathrooms  \\\n",
       "0  {TV,\"Cable TV\",Kitchen,\"Free parking on premis...             2          1   \n",
       "1  {TV,\"Cable TV\",\"Wireless Internet\",\"Air condit...             3          1   \n",
       "2  {\"Wireless Internet\",Kitchen,Heating,\"Family/k...             1          1   \n",
       "3  {TV,\"Cable TV\",Internet,\"Wireless Internet\",\"W...             1          1   \n",
       "4  {TV,Internet,\"Wireless Internet\",\"Air conditio...             2          1   \n",
       "\n",
       "   bed_type cancellation_policy  cleaning_fee city    ...      \\\n",
       "0  Real Bed            flexible             1   LA    ...       \n",
       "1  Real Bed            moderate             1  NYC    ...       \n",
       "2  Real Bed            moderate             1   SF    ...       \n",
       "3  Real Bed              strict             1   LA    ...       \n",
       "4  Real Bed            flexible             1  NYC    ...       \n",
       "\n",
       "       neighbourhood number_of_reviews  review_scores_rating  thumbnail_url  \\\n",
       "0       Santa Monica                 6                    97              1   \n",
       "1       Williamsburg                 2                    80              1   \n",
       "2  Richmond District                 2                   100              1   \n",
       "3     Marina Del Rey                 7                    94              1   \n",
       "4       West Village                 0                    94              1   \n",
       "\n",
       "   zipcode bedrooms beds amenities_count  description_length       zhvi  \n",
       "0    90403        1    1              19                 172  13.804182  \n",
       "1    11222        1    1              17                 164  13.806167  \n",
       "2    94118        1    1              13                  78  14.489577  \n",
       "3    90292        0    1              15                 166  13.830892  \n",
       "4    10014        1    1              14                  47  14.247098  \n",
       "\n",
       "[5 rows x 31 columns]"
      ]
     },
     "execution_count": 11,
     "metadata": {},
     "output_type": "execute_result"
    }
   ],
   "source": [
    "test_detail.head()"
   ]
  },
  {
   "cell_type": "markdown",
   "metadata": {},
   "source": [
    "### Create one column by amenities"
   ]
  },
  {
   "cell_type": "markdown",
   "metadata": {},
   "source": [
    "> Intuitively, the price of a airbnb house should be related to the amenities provided by the house owner. For example, if a house provides wifi as well as air conditioning system then the price for that house will be more than the one which does not have these amenities.<br>\n",
    "To get the maximum out of this important feature, we are going to encode this feature with 1 (respective amenity provided) vs 0 (not provided)"
   ]
  },
  {
   "cell_type": "code",
   "execution_count": 12,
   "metadata": {
    "collapsed": true
   },
   "outputs": [],
   "source": [
    "amenities_list = []\n",
    "for i in range(len(train_detail)):\n",
    "    amenities_list += train_detail.amenities[i][1:-1].split(',')"
   ]
  },
  {
   "cell_type": "code",
   "execution_count": 13,
   "metadata": {
    "collapsed": true
   },
   "outputs": [],
   "source": [
    "amenities_list = list(set(amenities_list))"
   ]
  },
  {
   "cell_type": "code",
   "execution_count": 14,
   "metadata": {
    "collapsed": true
   },
   "outputs": [],
   "source": [
    "amenities_list_dict_train = {}\n",
    "amenities_list_dict_test = {}\n",
    "\n",
    "for a in amenities_list:\n",
    "    amenities_list_dict_train[a] = []\n",
    "    amenities_list_dict_test[a] = []"
   ]
  },
  {
   "cell_type": "code",
   "execution_count": 15,
   "metadata": {
    "collapsed": true
   },
   "outputs": [],
   "source": [
    "#amenities_list_dict"
   ]
  },
  {
   "cell_type": "code",
   "execution_count": 16,
   "metadata": {
    "collapsed": true
   },
   "outputs": [],
   "source": [
    "for i in range(len(train_detail)):\n",
    "    l = train_detail.amenities[i][1:-1].split(',')\n",
    "    for a in amenities_list_dict_train.keys():\n",
    "        if a in l:\n",
    "            amenities_list_dict_train[a].append(1)\n",
    "        else:\n",
    "            amenities_list_dict_train[a].append(0)"
   ]
  },
  {
   "cell_type": "code",
   "execution_count": 17,
   "metadata": {
    "collapsed": true
   },
   "outputs": [],
   "source": [
    "amenities_table_train = pd.DataFrame(amenities_list_dict_train)\n",
    "amenities_table_train = amenities_table_train.drop([''],axis=1)"
   ]
  },
  {
   "cell_type": "code",
   "execution_count": 18,
   "metadata": {
    "collapsed": true
   },
   "outputs": [],
   "source": [
    "for i in range(len(test_detail)):\n",
    "    l = test_detail.amenities[i][1:-1].split(',')\n",
    "    for a in amenities_list_dict_test.keys():\n",
    "        if a in l:\n",
    "            amenities_list_dict_test[a].append(1)\n",
    "        else:\n",
    "            amenities_list_dict_test[a].append(0)"
   ]
  },
  {
   "cell_type": "code",
   "execution_count": 19,
   "metadata": {
    "collapsed": true
   },
   "outputs": [],
   "source": [
    "amenities_table_test = pd.DataFrame(amenities_list_dict_test)\n",
    "amenities_table_test = amenities_table_test.drop([''],axis=1)"
   ]
  },
  {
   "cell_type": "code",
   "execution_count": 20,
   "metadata": {},
   "outputs": [
    {
     "data": {
      "text/html": [
       "<div>\n",
       "<style>\n",
       "    .dataframe thead tr:only-child th {\n",
       "        text-align: right;\n",
       "    }\n",
       "\n",
       "    .dataframe thead th {\n",
       "        text-align: left;\n",
       "    }\n",
       "\n",
       "    .dataframe tbody tr th {\n",
       "        vertical-align: top;\n",
       "    }\n",
       "</style>\n",
       "<table border=\"1\" class=\"dataframe\">\n",
       "  <thead>\n",
       "    <tr style=\"text-align: right;\">\n",
       "      <th></th>\n",
       "      <th>smooth pathway to front door\"</th>\n",
       "      <th>\"24-hour check-in\"</th>\n",
       "      <th>\"Accessible-height bed\"</th>\n",
       "      <th>\"Accessible-height toilet\"</th>\n",
       "      <th>\"Air conditioning\"</th>\n",
       "      <th>\"Air purifier\"</th>\n",
       "      <th>\"BBQ grill\"</th>\n",
       "      <th>\"Baby bath\"</th>\n",
       "      <th>\"Baby monitor\"</th>\n",
       "      <th>\"Babysitter recommendations\"</th>\n",
       "      <th>...</th>\n",
       "      <th>Other</th>\n",
       "      <th>Oven</th>\n",
       "      <th>Pool</th>\n",
       "      <th>Refrigerator</th>\n",
       "      <th>Shampoo</th>\n",
       "      <th>Smartlock</th>\n",
       "      <th>Stove</th>\n",
       "      <th>TV</th>\n",
       "      <th>Washer</th>\n",
       "      <th>Waterfront</th>\n",
       "    </tr>\n",
       "  </thead>\n",
       "  <tbody>\n",
       "    <tr>\n",
       "      <th>0</th>\n",
       "      <td>0</td>\n",
       "      <td>0</td>\n",
       "      <td>0</td>\n",
       "      <td>0</td>\n",
       "      <td>0</td>\n",
       "      <td>0</td>\n",
       "      <td>0</td>\n",
       "      <td>0</td>\n",
       "      <td>0</td>\n",
       "      <td>0</td>\n",
       "      <td>...</td>\n",
       "      <td>0</td>\n",
       "      <td>0</td>\n",
       "      <td>0</td>\n",
       "      <td>0</td>\n",
       "      <td>1</td>\n",
       "      <td>0</td>\n",
       "      <td>0</td>\n",
       "      <td>1</td>\n",
       "      <td>1</td>\n",
       "      <td>0</td>\n",
       "    </tr>\n",
       "    <tr>\n",
       "      <th>1</th>\n",
       "      <td>0</td>\n",
       "      <td>0</td>\n",
       "      <td>0</td>\n",
       "      <td>0</td>\n",
       "      <td>1</td>\n",
       "      <td>0</td>\n",
       "      <td>0</td>\n",
       "      <td>0</td>\n",
       "      <td>0</td>\n",
       "      <td>0</td>\n",
       "      <td>...</td>\n",
       "      <td>0</td>\n",
       "      <td>0</td>\n",
       "      <td>0</td>\n",
       "      <td>0</td>\n",
       "      <td>0</td>\n",
       "      <td>0</td>\n",
       "      <td>0</td>\n",
       "      <td>1</td>\n",
       "      <td>1</td>\n",
       "      <td>0</td>\n",
       "    </tr>\n",
       "    <tr>\n",
       "      <th>2</th>\n",
       "      <td>0</td>\n",
       "      <td>0</td>\n",
       "      <td>0</td>\n",
       "      <td>0</td>\n",
       "      <td>0</td>\n",
       "      <td>0</td>\n",
       "      <td>0</td>\n",
       "      <td>0</td>\n",
       "      <td>0</td>\n",
       "      <td>0</td>\n",
       "      <td>...</td>\n",
       "      <td>0</td>\n",
       "      <td>0</td>\n",
       "      <td>0</td>\n",
       "      <td>0</td>\n",
       "      <td>1</td>\n",
       "      <td>0</td>\n",
       "      <td>0</td>\n",
       "      <td>0</td>\n",
       "      <td>0</td>\n",
       "      <td>0</td>\n",
       "    </tr>\n",
       "    <tr>\n",
       "      <th>3</th>\n",
       "      <td>0</td>\n",
       "      <td>1</td>\n",
       "      <td>0</td>\n",
       "      <td>0</td>\n",
       "      <td>0</td>\n",
       "      <td>0</td>\n",
       "      <td>0</td>\n",
       "      <td>0</td>\n",
       "      <td>0</td>\n",
       "      <td>0</td>\n",
       "      <td>...</td>\n",
       "      <td>0</td>\n",
       "      <td>0</td>\n",
       "      <td>0</td>\n",
       "      <td>0</td>\n",
       "      <td>1</td>\n",
       "      <td>0</td>\n",
       "      <td>0</td>\n",
       "      <td>1</td>\n",
       "      <td>1</td>\n",
       "      <td>0</td>\n",
       "    </tr>\n",
       "    <tr>\n",
       "      <th>4</th>\n",
       "      <td>0</td>\n",
       "      <td>0</td>\n",
       "      <td>0</td>\n",
       "      <td>0</td>\n",
       "      <td>1</td>\n",
       "      <td>0</td>\n",
       "      <td>0</td>\n",
       "      <td>0</td>\n",
       "      <td>0</td>\n",
       "      <td>0</td>\n",
       "      <td>...</td>\n",
       "      <td>0</td>\n",
       "      <td>0</td>\n",
       "      <td>0</td>\n",
       "      <td>0</td>\n",
       "      <td>1</td>\n",
       "      <td>0</td>\n",
       "      <td>0</td>\n",
       "      <td>1</td>\n",
       "      <td>0</td>\n",
       "      <td>0</td>\n",
       "    </tr>\n",
       "  </tbody>\n",
       "</table>\n",
       "<p>5 rows × 130 columns</p>\n",
       "</div>"
      ],
      "text/plain": [
       "    smooth pathway to front door\"  \"24-hour check-in\"  \\\n",
       "0                               0                   0   \n",
       "1                               0                   0   \n",
       "2                               0                   0   \n",
       "3                               0                   1   \n",
       "4                               0                   0   \n",
       "\n",
       "   \"Accessible-height bed\"  \"Accessible-height toilet\"  \"Air conditioning\"  \\\n",
       "0                        0                           0                   0   \n",
       "1                        0                           0                   1   \n",
       "2                        0                           0                   0   \n",
       "3                        0                           0                   0   \n",
       "4                        0                           0                   1   \n",
       "\n",
       "   \"Air purifier\"  \"BBQ grill\"  \"Baby bath\"  \"Baby monitor\"  \\\n",
       "0               0            0            0               0   \n",
       "1               0            0            0               0   \n",
       "2               0            0            0               0   \n",
       "3               0            0            0               0   \n",
       "4               0            0            0               0   \n",
       "\n",
       "   \"Babysitter recommendations\"     ...      Other  Oven  Pool  Refrigerator  \\\n",
       "0                             0     ...          0     0     0             0   \n",
       "1                             0     ...          0     0     0             0   \n",
       "2                             0     ...          0     0     0             0   \n",
       "3                             0     ...          0     0     0             0   \n",
       "4                             0     ...          0     0     0             0   \n",
       "\n",
       "   Shampoo  Smartlock  Stove  TV  Washer  Waterfront  \n",
       "0        1          0      0   1       1           0  \n",
       "1        0          0      0   1       1           0  \n",
       "2        1          0      0   0       0           0  \n",
       "3        1          0      0   1       1           0  \n",
       "4        1          0      0   1       0           0  \n",
       "\n",
       "[5 rows x 130 columns]"
      ]
     },
     "execution_count": 20,
     "metadata": {},
     "output_type": "execute_result"
    }
   ],
   "source": [
    "amenities_table_test.head()"
   ]
  },
  {
   "cell_type": "code",
   "execution_count": 21,
   "metadata": {
    "collapsed": true
   },
   "outputs": [],
   "source": [
    "train_detail = pd.concat([train_detail, amenities_table_train], axis=1)"
   ]
  },
  {
   "cell_type": "code",
   "execution_count": 22,
   "metadata": {
    "collapsed": true
   },
   "outputs": [],
   "source": [
    "test_detail = pd.concat([test_detail, amenities_table_test], axis=1)"
   ]
  },
  {
   "cell_type": "code",
   "execution_count": 23,
   "metadata": {},
   "outputs": [
    {
     "data": {
      "text/html": [
       "<div>\n",
       "<style>\n",
       "    .dataframe thead tr:only-child th {\n",
       "        text-align: right;\n",
       "    }\n",
       "\n",
       "    .dataframe thead th {\n",
       "        text-align: left;\n",
       "    }\n",
       "\n",
       "    .dataframe tbody tr th {\n",
       "        vertical-align: top;\n",
       "    }\n",
       "</style>\n",
       "<table border=\"1\" class=\"dataframe\">\n",
       "  <thead>\n",
       "    <tr style=\"text-align: right;\">\n",
       "      <th></th>\n",
       "      <th>Feature Names</th>\n",
       "      <th>Missing Count</th>\n",
       "      <th>Missing Percentage(%)</th>\n",
       "    </tr>\n",
       "  </thead>\n",
       "  <tbody>\n",
       "    <tr>\n",
       "      <th>0</th>\n",
       "      <td>zhvi</td>\n",
       "      <td>3468</td>\n",
       "      <td>4.679467</td>\n",
       "    </tr>\n",
       "  </tbody>\n",
       "</table>\n",
       "</div>"
      ],
      "text/plain": [
       "  Feature Names  Missing Count  Missing Percentage(%)\n",
       "0          zhvi           3468               4.679467"
      ]
     },
     "execution_count": 23,
     "metadata": {},
     "output_type": "execute_result"
    }
   ],
   "source": [
    "missing_value_analysis(train_detail)"
   ]
  },
  {
   "cell_type": "code",
   "execution_count": 24,
   "metadata": {},
   "outputs": [
    {
     "data": {
      "text/html": [
       "<div>\n",
       "<style>\n",
       "    .dataframe thead tr:only-child th {\n",
       "        text-align: right;\n",
       "    }\n",
       "\n",
       "    .dataframe thead th {\n",
       "        text-align: left;\n",
       "    }\n",
       "\n",
       "    .dataframe tbody tr th {\n",
       "        vertical-align: top;\n",
       "    }\n",
       "</style>\n",
       "<table border=\"1\" class=\"dataframe\">\n",
       "  <thead>\n",
       "    <tr style=\"text-align: right;\">\n",
       "      <th></th>\n",
       "      <th>Feature Names</th>\n",
       "      <th>Missing Count</th>\n",
       "      <th>Missing Percentage(%)</th>\n",
       "    </tr>\n",
       "  </thead>\n",
       "  <tbody>\n",
       "    <tr>\n",
       "      <th>0</th>\n",
       "      <td>zhvi</td>\n",
       "      <td>1175</td>\n",
       "      <td>4.615445</td>\n",
       "    </tr>\n",
       "  </tbody>\n",
       "</table>\n",
       "</div>"
      ],
      "text/plain": [
       "  Feature Names  Missing Count  Missing Percentage(%)\n",
       "0          zhvi           1175               4.615445"
      ]
     },
     "execution_count": 24,
     "metadata": {},
     "output_type": "execute_result"
    }
   ],
   "source": [
    "## Missing Value analysis\n",
    "missing_value_analysis(test_detail)"
   ]
  },
  {
   "cell_type": "code",
   "execution_count": 25,
   "metadata": {},
   "outputs": [
    {
     "name": "stdout",
     "output_type": "stream",
     "text": [
      "There are 74111 rows and 162 columns in cleansed train dataset\n"
     ]
    }
   ],
   "source": [
    "print(\"There are {} rows and {} columns in cleansed train dataset\".format(train_detail.shape[0],train_detail.shape[1]))"
   ]
  },
  {
   "cell_type": "code",
   "execution_count": 26,
   "metadata": {},
   "outputs": [
    {
     "name": "stdout",
     "output_type": "stream",
     "text": [
      "There are 25458 rows and 161 columns in cleansed test dataset\n"
     ]
    }
   ],
   "source": [
    "print(\"There are {} rows and {} columns in cleansed test dataset\".format(test_detail.shape[0],test_detail.shape[1]))"
   ]
  },
  {
   "cell_type": "markdown",
   "metadata": {},
   "source": [
    "### Output Interim Data"
   ]
  },
  {
   "cell_type": "markdown",
   "metadata": {},
   "source": [
    "> The code below outputs the processed data to interim folder so that it can be used by the model directly instead of running the whole data processing code again."
   ]
  },
  {
   "cell_type": "code",
   "execution_count": 27,
   "metadata": {
    "collapsed": true
   },
   "outputs": [],
   "source": [
    "\n",
    "to_write_train = '/data/interim/train_preprocessed_interim.csv'\n",
    "to_write_test = '/data/interim/test_preprocessed_interim.csv'\n",
    "\n",
    "train_detail.to_csv(rootDirectory + to_write_train, encoding='utf-8')\n",
    "test_detail.to_csv(rootDirectory + to_write_test, encoding='utf-8')"
   ]
  }
 ],
 "metadata": {
  "kernelspec": {
   "display_name": "Python 3",
   "language": "python",
   "name": "python3"
  },
  "language_info": {
   "codemirror_mode": {
    "name": "ipython",
    "version": 3
   },
   "file_extension": ".py",
   "mimetype": "text/x-python",
   "name": "python",
   "nbconvert_exporter": "python",
   "pygments_lexer": "ipython3",
   "version": "3.6.3"
  }
 },
 "nbformat": 4,
 "nbformat_minor": 2
}
