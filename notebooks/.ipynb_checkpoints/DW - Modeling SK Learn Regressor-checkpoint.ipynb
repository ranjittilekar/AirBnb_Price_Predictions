{
 "cells": [
  {
   "cell_type": "code",
   "execution_count": 1,
   "metadata": {
    "collapsed": true
   },
   "outputs": [],
   "source": [
    "# Import Library\n",
    "import os\n",
    "import pandas as pd\n",
    "from IPython.display import display\n",
    "import zipfile"
   ]
  },
  {
   "cell_type": "code",
   "execution_count": 2,
   "metadata": {},
   "outputs": [
    {
     "name": "stdout",
     "output_type": "stream",
     "text": [
      "/Users/dwu007/Desktop/Production/AirBnbPrediction\n"
     ]
    }
   ],
   "source": [
    "# Initate variable to create Root Path\n",
    "rootDirectory = os.path.abspath('..')\n",
    "rootDirectory = str(rootDirectory)\n",
    "print(rootDirectory)"
   ]
  },
  {
   "cell_type": "code",
   "execution_count": 3,
   "metadata": {},
   "outputs": [],
   "source": [
    "# Import Parameter\n",
    "os.chdir(rootDirectory)\n",
    "from src import parameters\n",
    "from src import program\n",
    "from src.data import make_dataset\n",
    "from src.features import build_features"
   ]
  },
  {
   "cell_type": "code",
   "execution_count": 4,
   "metadata": {
    "collapsed": true
   },
   "outputs": [],
   "source": [
    "# Update parameter.py for inputs\n",
    "# Run program.py to perform data prep\n",
    "# Notebook call not working at the moment\n",
    "\n",
    "# program.fx_make_dataset()\n",
    "  \n"
   ]
  },
  {
   "cell_type": "code",
   "execution_count": 5,
   "metadata": {
    "collapsed": true
   },
   "outputs": [],
   "source": [
    "# Update parameter.py for inputs\n",
    "# Run program.py to perform data prep\n",
    "# Notebook call not working at the moment\n",
    "\n",
    "# program.fx_build_features()\n"
   ]
  },
  {
   "cell_type": "code",
   "execution_count": 6,
   "metadata": {
    "collapsed": true
   },
   "outputs": [],
   "source": [
    "# Update parameter.py for inputs\n",
    "# Run program.py to perform data prep\n",
    "# Notebook call not working at the moment\n",
    "\n",
    "# program.preprocess_dataset()"
   ]
  },
  {
   "cell_type": "code",
   "execution_count": 7,
   "metadata": {},
   "outputs": [
    {
     "data": {
      "text/html": [
       "<div>\n",
       "<style>\n",
       "    .dataframe thead tr:only-child th {\n",
       "        text-align: right;\n",
       "    }\n",
       "\n",
       "    .dataframe thead th {\n",
       "        text-align: left;\n",
       "    }\n",
       "\n",
       "    .dataframe tbody tr th {\n",
       "        vertical-align: top;\n",
       "    }\n",
       "</style>\n",
       "<table border=\"1\" class=\"dataframe\">\n",
       "  <thead>\n",
       "    <tr style=\"text-align: right;\">\n",
       "      <th></th>\n",
       "      <th>accommodates</th>\n",
       "      <th>bathrooms</th>\n",
       "      <th>number_of_reviews</th>\n",
       "      <th>review_scores_rating</th>\n",
       "      <th>bedrooms</th>\n",
       "      <th>beds</th>\n",
       "      <th>amenities_count</th>\n",
       "      <th>description_length</th>\n",
       "      <th>thumbnail_url</th>\n",
       "      <th>room_type_Private room</th>\n",
       "      <th>...</th>\n",
       "      <th>bed_type_Real Bed</th>\n",
       "      <th>cancellation_policy_long_term</th>\n",
       "      <th>cancellation_policy_moderate</th>\n",
       "      <th>cancellation_policy_strict</th>\n",
       "      <th>cancellation_policy_super_strict_30</th>\n",
       "      <th>cancellation_policy_super_strict_60</th>\n",
       "      <th>host_has_profile_pic_f</th>\n",
       "      <th>host_has_profile_pic_t</th>\n",
       "      <th>host_identity_verified_f</th>\n",
       "      <th>host_identity_verified_t</th>\n",
       "    </tr>\n",
       "  </thead>\n",
       "  <tbody>\n",
       "    <tr>\n",
       "      <th>0</th>\n",
       "      <td>-0.072</td>\n",
       "      <td>-0.403</td>\n",
       "      <td>-0.497</td>\n",
       "      <td>0.789</td>\n",
       "      <td>-0.313</td>\n",
       "      <td>-0.567</td>\n",
       "      <td>-1.079</td>\n",
       "      <td>-1.780</td>\n",
       "      <td>1</td>\n",
       "      <td>0</td>\n",
       "      <td>...</td>\n",
       "      <td>1</td>\n",
       "      <td>0</td>\n",
       "      <td>0</td>\n",
       "      <td>1</td>\n",
       "      <td>0</td>\n",
       "      <td>0</td>\n",
       "      <td>0</td>\n",
       "      <td>1</td>\n",
       "      <td>0</td>\n",
       "      <td>1</td>\n",
       "    </tr>\n",
       "    <tr>\n",
       "      <th>1</th>\n",
       "      <td>1.794</td>\n",
       "      <td>-0.403</td>\n",
       "      <td>-0.392</td>\n",
       "      <td>-0.214</td>\n",
       "      <td>2.043</td>\n",
       "      <td>1.028</td>\n",
       "      <td>-0.802</td>\n",
       "      <td>0.677</td>\n",
       "      <td>1</td>\n",
       "      <td>0</td>\n",
       "      <td>...</td>\n",
       "      <td>1</td>\n",
       "      <td>0</td>\n",
       "      <td>0</td>\n",
       "      <td>1</td>\n",
       "      <td>0</td>\n",
       "      <td>0</td>\n",
       "      <td>0</td>\n",
       "      <td>1</td>\n",
       "      <td>1</td>\n",
       "      <td>0</td>\n",
       "    </tr>\n",
       "    <tr>\n",
       "      <th>2</th>\n",
       "      <td>0.861</td>\n",
       "      <td>-0.403</td>\n",
       "      <td>-0.286</td>\n",
       "      <td>-0.357</td>\n",
       "      <td>-0.313</td>\n",
       "      <td>1.028</td>\n",
       "      <td>0.029</td>\n",
       "      <td>0.659</td>\n",
       "      <td>1</td>\n",
       "      <td>0</td>\n",
       "      <td>...</td>\n",
       "      <td>1</td>\n",
       "      <td>0</td>\n",
       "      <td>1</td>\n",
       "      <td>0</td>\n",
       "      <td>0</td>\n",
       "      <td>0</td>\n",
       "      <td>0</td>\n",
       "      <td>1</td>\n",
       "      <td>0</td>\n",
       "      <td>1</td>\n",
       "    </tr>\n",
       "    <tr>\n",
       "      <th>3</th>\n",
       "      <td>0.395</td>\n",
       "      <td>-0.403</td>\n",
       "      <td>-0.550</td>\n",
       "      <td>0.216</td>\n",
       "      <td>0.865</td>\n",
       "      <td>0.230</td>\n",
       "      <td>-0.525</td>\n",
       "      <td>-0.937</td>\n",
       "      <td>1</td>\n",
       "      <td>0</td>\n",
       "      <td>...</td>\n",
       "      <td>1</td>\n",
       "      <td>0</td>\n",
       "      <td>0</td>\n",
       "      <td>0</td>\n",
       "      <td>0</td>\n",
       "      <td>0</td>\n",
       "      <td>0</td>\n",
       "      <td>1</td>\n",
       "      <td>0</td>\n",
       "      <td>1</td>\n",
       "    </tr>\n",
       "    <tr>\n",
       "      <th>4</th>\n",
       "      <td>-0.538</td>\n",
       "      <td>-0.403</td>\n",
       "      <td>-0.444</td>\n",
       "      <td>-7.810</td>\n",
       "      <td>-1.491</td>\n",
       "      <td>-0.567</td>\n",
       "      <td>-0.802</td>\n",
       "      <td>-0.273</td>\n",
       "      <td>0</td>\n",
       "      <td>0</td>\n",
       "      <td>...</td>\n",
       "      <td>1</td>\n",
       "      <td>0</td>\n",
       "      <td>1</td>\n",
       "      <td>0</td>\n",
       "      <td>0</td>\n",
       "      <td>0</td>\n",
       "      <td>0</td>\n",
       "      <td>1</td>\n",
       "      <td>0</td>\n",
       "      <td>1</td>\n",
       "    </tr>\n",
       "  </tbody>\n",
       "</table>\n",
       "<p>5 rows × 24 columns</p>\n",
       "</div>"
      ],
      "text/plain": [
       "   accommodates  bathrooms  number_of_reviews  review_scores_rating  bedrooms  \\\n",
       "0        -0.072     -0.403             -0.497                 0.789    -0.313   \n",
       "1         1.794     -0.403             -0.392                -0.214     2.043   \n",
       "2         0.861     -0.403             -0.286                -0.357    -0.313   \n",
       "3         0.395     -0.403             -0.550                 0.216     0.865   \n",
       "4        -0.538     -0.403             -0.444                -7.810    -1.491   \n",
       "\n",
       "    beds  amenities_count  description_length  thumbnail_url  \\\n",
       "0 -0.567           -1.079              -1.780              1   \n",
       "1  1.028           -0.802               0.677              1   \n",
       "2  1.028            0.029               0.659              1   \n",
       "3  0.230           -0.525              -0.937              1   \n",
       "4 -0.567           -0.802              -0.273              0   \n",
       "\n",
       "   room_type_Private room            ...             bed_type_Real Bed  \\\n",
       "0                       0            ...                             1   \n",
       "1                       0            ...                             1   \n",
       "2                       0            ...                             1   \n",
       "3                       0            ...                             1   \n",
       "4                       0            ...                             1   \n",
       "\n",
       "   cancellation_policy_long_term  cancellation_policy_moderate  \\\n",
       "0                              0                             0   \n",
       "1                              0                             0   \n",
       "2                              0                             1   \n",
       "3                              0                             0   \n",
       "4                              0                             1   \n",
       "\n",
       "   cancellation_policy_strict  cancellation_policy_super_strict_30  \\\n",
       "0                           1                                    0   \n",
       "1                           1                                    0   \n",
       "2                           0                                    0   \n",
       "3                           0                                    0   \n",
       "4                           0                                    0   \n",
       "\n",
       "   cancellation_policy_super_strict_60  host_has_profile_pic_f  \\\n",
       "0                                    0                       0   \n",
       "1                                    0                       0   \n",
       "2                                    0                       0   \n",
       "3                                    0                       0   \n",
       "4                                    0                       0   \n",
       "\n",
       "   host_has_profile_pic_t  host_identity_verified_f  host_identity_verified_t  \n",
       "0                       1                         0                         1  \n",
       "1                       1                         1                         0  \n",
       "2                       1                         0                         1  \n",
       "3                       1                         0                         1  \n",
       "4                       1                         0                         1  \n",
       "\n",
       "[5 rows x 24 columns]"
      ]
     },
     "execution_count": 7,
     "metadata": {},
     "output_type": "execute_result"
    }
   ],
   "source": [
    "X_train = pd.read_csv(rootDirectory+\"/data/processed/X_train.csv\")\n",
    "X_train.head()"
   ]
  },
  {
   "cell_type": "code",
   "execution_count": 8,
   "metadata": {},
   "outputs": [
    {
     "data": {
      "text/html": [
       "<div>\n",
       "<style>\n",
       "    .dataframe thead tr:only-child th {\n",
       "        text-align: right;\n",
       "    }\n",
       "\n",
       "    .dataframe thead th {\n",
       "        text-align: left;\n",
       "    }\n",
       "\n",
       "    .dataframe tbody tr th {\n",
       "        vertical-align: top;\n",
       "    }\n",
       "</style>\n",
       "<table border=\"1\" class=\"dataframe\">\n",
       "  <thead>\n",
       "    <tr style=\"text-align: right;\">\n",
       "      <th></th>\n",
       "      <th>log_price</th>\n",
       "    </tr>\n",
       "  </thead>\n",
       "  <tbody>\n",
       "    <tr>\n",
       "      <th>0</th>\n",
       "      <td>5.010635</td>\n",
       "    </tr>\n",
       "    <tr>\n",
       "      <th>1</th>\n",
       "      <td>5.129899</td>\n",
       "    </tr>\n",
       "    <tr>\n",
       "      <th>2</th>\n",
       "      <td>4.976734</td>\n",
       "    </tr>\n",
       "    <tr>\n",
       "      <th>3</th>\n",
       "      <td>6.620073</td>\n",
       "    </tr>\n",
       "    <tr>\n",
       "      <th>4</th>\n",
       "      <td>4.744932</td>\n",
       "    </tr>\n",
       "  </tbody>\n",
       "</table>\n",
       "</div>"
      ],
      "text/plain": [
       "   log_price\n",
       "0   5.010635\n",
       "1   5.129899\n",
       "2   4.976734\n",
       "3   6.620073\n",
       "4   4.744932"
      ]
     },
     "execution_count": 8,
     "metadata": {},
     "output_type": "execute_result"
    }
   ],
   "source": [
    "y_train = pd.read_csv(rootDirectory+\"/data/processed/y_train.csv\")\n",
    "y_train.head()\n"
   ]
  },
  {
   "cell_type": "code",
   "execution_count": 9,
   "metadata": {},
   "outputs": [
    {
     "data": {
      "text/html": [
       "<div>\n",
       "<style>\n",
       "    .dataframe thead tr:only-child th {\n",
       "        text-align: right;\n",
       "    }\n",
       "\n",
       "    .dataframe thead th {\n",
       "        text-align: left;\n",
       "    }\n",
       "\n",
       "    .dataframe tbody tr th {\n",
       "        vertical-align: top;\n",
       "    }\n",
       "</style>\n",
       "<table border=\"1\" class=\"dataframe\">\n",
       "  <thead>\n",
       "    <tr style=\"text-align: right;\">\n",
       "      <th></th>\n",
       "      <th>accommodates</th>\n",
       "      <th>bathrooms</th>\n",
       "      <th>number_of_reviews</th>\n",
       "      <th>review_scores_rating</th>\n",
       "      <th>bedrooms</th>\n",
       "      <th>beds</th>\n",
       "      <th>amenities_count</th>\n",
       "      <th>description_length</th>\n",
       "      <th>thumbnail_url</th>\n",
       "      <th>room_type_Private room</th>\n",
       "      <th>...</th>\n",
       "      <th>bed_type_Real Bed</th>\n",
       "      <th>cancellation_policy_long_term</th>\n",
       "      <th>cancellation_policy_moderate</th>\n",
       "      <th>cancellation_policy_strict</th>\n",
       "      <th>cancellation_policy_super_strict_30</th>\n",
       "      <th>cancellation_policy_super_strict_60</th>\n",
       "      <th>host_has_profile_pic_f</th>\n",
       "      <th>host_has_profile_pic_t</th>\n",
       "      <th>host_identity_verified_f</th>\n",
       "      <th>host_identity_verified_t</th>\n",
       "    </tr>\n",
       "  </thead>\n",
       "  <tbody>\n",
       "    <tr>\n",
       "      <th>0</th>\n",
       "      <td>-0.538</td>\n",
       "      <td>-0.403</td>\n",
       "      <td>-0.392</td>\n",
       "      <td>0.359</td>\n",
       "      <td>-0.313</td>\n",
       "      <td>-0.567</td>\n",
       "      <td>0.583</td>\n",
       "      <td>0.749</td>\n",
       "      <td>1</td>\n",
       "      <td>1</td>\n",
       "      <td>...</td>\n",
       "      <td>1</td>\n",
       "      <td>0</td>\n",
       "      <td>0</td>\n",
       "      <td>0</td>\n",
       "      <td>0</td>\n",
       "      <td>0</td>\n",
       "      <td>0</td>\n",
       "      <td>1</td>\n",
       "      <td>1</td>\n",
       "      <td>0</td>\n",
       "    </tr>\n",
       "    <tr>\n",
       "      <th>1</th>\n",
       "      <td>-0.072</td>\n",
       "      <td>-0.403</td>\n",
       "      <td>-0.497</td>\n",
       "      <td>-2.077</td>\n",
       "      <td>-0.313</td>\n",
       "      <td>-0.567</td>\n",
       "      <td>0.306</td>\n",
       "      <td>0.605</td>\n",
       "      <td>1</td>\n",
       "      <td>0</td>\n",
       "      <td>...</td>\n",
       "      <td>1</td>\n",
       "      <td>0</td>\n",
       "      <td>1</td>\n",
       "      <td>0</td>\n",
       "      <td>0</td>\n",
       "      <td>0</td>\n",
       "      <td>0</td>\n",
       "      <td>1</td>\n",
       "      <td>0</td>\n",
       "      <td>1</td>\n",
       "    </tr>\n",
       "    <tr>\n",
       "      <th>2</th>\n",
       "      <td>-1.005</td>\n",
       "      <td>-0.403</td>\n",
       "      <td>-0.497</td>\n",
       "      <td>0.789</td>\n",
       "      <td>-0.313</td>\n",
       "      <td>-0.567</td>\n",
       "      <td>-0.248</td>\n",
       "      <td>-0.937</td>\n",
       "      <td>1</td>\n",
       "      <td>1</td>\n",
       "      <td>...</td>\n",
       "      <td>1</td>\n",
       "      <td>0</td>\n",
       "      <td>1</td>\n",
       "      <td>0</td>\n",
       "      <td>0</td>\n",
       "      <td>0</td>\n",
       "      <td>0</td>\n",
       "      <td>1</td>\n",
       "      <td>0</td>\n",
       "      <td>1</td>\n",
       "    </tr>\n",
       "    <tr>\n",
       "      <th>3</th>\n",
       "      <td>-1.005</td>\n",
       "      <td>-0.403</td>\n",
       "      <td>-0.365</td>\n",
       "      <td>-0.070</td>\n",
       "      <td>-1.491</td>\n",
       "      <td>-0.567</td>\n",
       "      <td>0.029</td>\n",
       "      <td>0.641</td>\n",
       "      <td>1</td>\n",
       "      <td>0</td>\n",
       "      <td>...</td>\n",
       "      <td>1</td>\n",
       "      <td>0</td>\n",
       "      <td>0</td>\n",
       "      <td>1</td>\n",
       "      <td>0</td>\n",
       "      <td>0</td>\n",
       "      <td>0</td>\n",
       "      <td>1</td>\n",
       "      <td>0</td>\n",
       "      <td>1</td>\n",
       "    </tr>\n",
       "    <tr>\n",
       "      <th>4</th>\n",
       "      <td>-0.538</td>\n",
       "      <td>-0.403</td>\n",
       "      <td>-0.550</td>\n",
       "      <td>0.216</td>\n",
       "      <td>-0.313</td>\n",
       "      <td>-0.567</td>\n",
       "      <td>-0.110</td>\n",
       "      <td>-1.493</td>\n",
       "      <td>1</td>\n",
       "      <td>0</td>\n",
       "      <td>...</td>\n",
       "      <td>1</td>\n",
       "      <td>0</td>\n",
       "      <td>0</td>\n",
       "      <td>0</td>\n",
       "      <td>0</td>\n",
       "      <td>0</td>\n",
       "      <td>0</td>\n",
       "      <td>1</td>\n",
       "      <td>0</td>\n",
       "      <td>1</td>\n",
       "    </tr>\n",
       "  </tbody>\n",
       "</table>\n",
       "<p>5 rows × 24 columns</p>\n",
       "</div>"
      ],
      "text/plain": [
       "   accommodates  bathrooms  number_of_reviews  review_scores_rating  bedrooms  \\\n",
       "0        -0.538     -0.403             -0.392                 0.359    -0.313   \n",
       "1        -0.072     -0.403             -0.497                -2.077    -0.313   \n",
       "2        -1.005     -0.403             -0.497                 0.789    -0.313   \n",
       "3        -1.005     -0.403             -0.365                -0.070    -1.491   \n",
       "4        -0.538     -0.403             -0.550                 0.216    -0.313   \n",
       "\n",
       "    beds  amenities_count  description_length  thumbnail_url  \\\n",
       "0 -0.567            0.583               0.749              1   \n",
       "1 -0.567            0.306               0.605              1   \n",
       "2 -0.567           -0.248              -0.937              1   \n",
       "3 -0.567            0.029               0.641              1   \n",
       "4 -0.567           -0.110              -1.493              1   \n",
       "\n",
       "   room_type_Private room            ...             bed_type_Real Bed  \\\n",
       "0                       1            ...                             1   \n",
       "1                       0            ...                             1   \n",
       "2                       1            ...                             1   \n",
       "3                       0            ...                             1   \n",
       "4                       0            ...                             1   \n",
       "\n",
       "   cancellation_policy_long_term  cancellation_policy_moderate  \\\n",
       "0                              0                             0   \n",
       "1                              0                             1   \n",
       "2                              0                             1   \n",
       "3                              0                             0   \n",
       "4                              0                             0   \n",
       "\n",
       "   cancellation_policy_strict  cancellation_policy_super_strict_30  \\\n",
       "0                           0                                    0   \n",
       "1                           0                                    0   \n",
       "2                           0                                    0   \n",
       "3                           1                                    0   \n",
       "4                           0                                    0   \n",
       "\n",
       "   cancellation_policy_super_strict_60  host_has_profile_pic_f  \\\n",
       "0                                    0                       0   \n",
       "1                                    0                       0   \n",
       "2                                    0                       0   \n",
       "3                                    0                       0   \n",
       "4                                    0                       0   \n",
       "\n",
       "   host_has_profile_pic_t  host_identity_verified_f  host_identity_verified_t  \n",
       "0                       1                         1                         0  \n",
       "1                       1                         0                         1  \n",
       "2                       1                         0                         1  \n",
       "3                       1                         0                         1  \n",
       "4                       1                         0                         1  \n",
       "\n",
       "[5 rows x 24 columns]"
      ]
     },
     "execution_count": 9,
     "metadata": {},
     "output_type": "execute_result"
    }
   ],
   "source": [
    "X_test = pd.read_csv(rootDirectory+\"/data/processed/X_test.csv\")\n",
    "X_test.head()\n"
   ]
  },
  {
   "cell_type": "code",
   "execution_count": 10,
   "metadata": {},
   "outputs": [
    {
     "name": "stderr",
     "output_type": "stream",
     "text": [
      "/Users/dwu007/anaconda/lib/python3.6/site-packages/sklearn/cross_validation.py:44: DeprecationWarning: This module was deprecated in version 0.18 in favor of the model_selection module into which all the refactored classes and functions are moved. Also note that the interface of the new CV iterators are different from that of this module. This module will be removed in 0.20.\n",
      "  \"This module will be removed in 0.20.\", DeprecationWarning)\n",
      "/Users/dwu007/anaconda/lib/python3.6/site-packages/sklearn/grid_search.py:43: DeprecationWarning: This module was deprecated in version 0.18 in favor of the model_selection module into which all the refactored classes and functions are moved. This module will be removed in 0.20.\n",
      "  DeprecationWarning)\n"
     ]
    }
   ],
   "source": [
    "# machine learning\n",
    "import numpy as np\n",
    "import matplotlib\n",
    "import seaborn as sb\n",
    "import matplotlib.pyplot as plt\n",
    "import matplotlib.cm as cmx\n",
    "import matplotlib.colors as colors\n",
    "\n",
    "from sklearn.metrics import mean_squared_error, mean_absolute_error\n",
    "from sklearn.model_selection import cross_val_score, KFold, StratifiedKFold, StratifiedShuffleSplit\n",
    "from sklearn.preprocessing import StandardScaler\n",
    "from sklearn.pipeline import Pipeline\n",
    "from sklearn.model_selection import train_test_split\n",
    "\n",
    "from sklearn import linear_model\n",
    "import sklearn.metrics as metrics\n",
    "from sklearn.grid_search import GridSearchCV\n",
    "from sklearn import preprocessing\n",
    "from sklearn.preprocessing import PolynomialFeatures\n",
    "from sklearn.linear_model import LinearRegression\n",
    "from sklearn.linear_model import RidgeCV\n",
    "from sklearn.linear_model import LassoCV\n",
    "from sklearn.ensemble import RandomForestRegressor\n",
    "from sklearn.ensemble import GradientBoostingRegressor\n",
    "import pylab\n",
    "import scipy.stats as stats\n",
    "%matplotlib inline"
   ]
  },
  {
   "cell_type": "markdown",
   "metadata": {},
   "source": [
    "### Perform train test split\n",
    "Utilize sk-learn to perform baseline linear regression calculation. "
   ]
  },
  {
   "cell_type": "code",
   "execution_count": 11,
   "metadata": {},
   "outputs": [
    {
     "name": "stdout",
     "output_type": "stream",
     "text": [
      "Training set has 51877 samples.\n",
      "Testing set has 22234 samples.\n"
     ]
    }
   ],
   "source": [
    "# Import train_test_split\n",
    "from sklearn.model_selection import train_test_split\n",
    "\n",
    "                                \n",
    "# Split the 'features' and 'log error' data into training and testing sets\n",
    "X_train_model, X_test_model, y_train_model, y_test_model = train_test_split(X_train, \n",
    "                                                    y_train, \n",
    "                                                    test_size = 0.3, \n",
    "                                                    random_state = 114)\n",
    "\n",
    "# Show the results of the split\n",
    "print (\"Training set has {} samples.\".format(X_train_model.shape[0]))\n",
    "print (\"Testing set has {} samples.\".format(X_test_model.shape[0]))"
   ]
  },
  {
   "cell_type": "markdown",
   "metadata": {},
   "source": [
    "### Train Test Split on model data and Parameter Optimization\n",
    "### Model: Logistic Regression"
   ]
  },
  {
   "cell_type": "code",
   "execution_count": 12,
   "metadata": {},
   "outputs": [
    {
     "data": {
      "text/plain": [
       "0.24940800642738953"
      ]
     },
     "metadata": {},
     "output_type": "display_data"
    },
    {
     "data": {
      "text/plain": [
       "array([-0.245463  , -0.24992351, -0.24265388, -0.247367  , -0.25096425])"
      ]
     },
     "execution_count": 12,
     "metadata": {},
     "output_type": "execute_result"
    }
   ],
   "source": [
    "# Initialize the models\n",
    "lr = LinearRegression()\n",
    "lr.fit(X_train_model, y_train_model)\n",
    "y_pred_model = lr.predict(X_test_model)\n",
    "\n",
    "display(mean_squared_error(y_test_model, y_pred_model))\n",
    "\n",
    "# validate locally using 5-fold cross-validation\n",
    "cross_val_score(lr, X_train, y_train, cv=5, scoring='neg_mean_squared_error')"
   ]
  },
  {
   "cell_type": "markdown",
   "metadata": {},
   "source": [
    "### Model: Random Forest Regressor\n"
   ]
  },
  {
   "cell_type": "code",
   "execution_count": 13,
   "metadata": {},
   "outputs": [
    {
     "data": {
      "text/plain": [
       "0.23947931105394515"
      ]
     },
     "metadata": {},
     "output_type": "display_data"
    },
    {
     "data": {
      "text/plain": [
       "array([-0.23700573, -0.24108086, -0.23309719, -0.23914489, -0.24338339])"
      ]
     },
     "execution_count": 13,
     "metadata": {},
     "output_type": "execute_result"
    }
   ],
   "source": [
    "#Random Forest Regressor                                         \n",
    "rfclf = RandomForestRegressor(n_estimators=50, max_depth=20, oob_score=True)\n",
    "rfclf.fit(X_train_model, y_train_model.values.ravel())\n",
    "y_pred_model = rfclf.predict(X_test_model)\n",
    "\n",
    "display(metrics.mean_squared_error(y_test_model, y_pred_model))\n",
    "\n",
    "# validate locally using 5-fold cross-validation\n",
    "cross_val_score(rfclf, X_train, y_train.values.ravel(), cv=5, scoring='neg_mean_squared_error')"
   ]
  },
  {
   "cell_type": "markdown",
   "metadata": {},
   "source": [
    "### Model: RidgeCV"
   ]
  },
  {
   "cell_type": "code",
   "execution_count": 14,
   "metadata": {},
   "outputs": [
    {
     "data": {
      "text/plain": [
       "0.24940800642738953"
      ]
     },
     "metadata": {},
     "output_type": "display_data"
    },
    {
     "data": {
      "text/plain": [
       "array([-0.24546586, -0.24992361, -0.24265613, -0.24737747, -0.25096378])"
      ]
     },
     "execution_count": 14,
     "metadata": {},
     "output_type": "execute_result"
    }
   ],
   "source": [
    "# RidgeCV\n",
    "reg_params = 10.**np.linspace(-10, 5, 10)\n",
    "rCV = RidgeCV(alphas=reg_params, fit_intercept=True, cv=5)\n",
    "rCV.fit(X_train_model, y_train_model)\n",
    "y_pred_model = lr.predict(X_test_model)\n",
    "\n",
    "display(metrics.mean_squared_error(y_test_model, y_pred_model))\n",
    "\n",
    "# validate locally using 5-fold cross-validation\n",
    "cross_val_score(rCV, X_train, y_train, cv=5, scoring='neg_mean_squared_error')\n"
   ]
  },
  {
   "cell_type": "markdown",
   "metadata": {},
   "source": [
    "### Model: LassoCV"
   ]
  },
  {
   "cell_type": "code",
   "execution_count": 15,
   "metadata": {},
   "outputs": [
    {
     "data": {
      "text/plain": [
       "0.24940800642738953"
      ]
     },
     "metadata": {},
     "output_type": "display_data"
    },
    {
     "data": {
      "text/plain": [
       "array([-0.24545942, -0.24991968, -0.24265123, -0.24738487, -0.25096425])"
      ]
     },
     "execution_count": 15,
     "metadata": {},
     "output_type": "execute_result"
    }
   ],
   "source": [
    "# LassoCV\n",
    "reg_params = 10.**np.linspace(-10, 5, 10)\n",
    "lCV = LassoCV(alphas=reg_params, fit_intercept=True, cv=5)\n",
    "lCV.fit(X_train_model, y_train_model.values.ravel())\n",
    "y_pred_model = lr.predict(X_test_model)\n",
    "\n",
    "display(metrics.mean_squared_error(y_test_model, y_pred_model))\n",
    "\n",
    "# validate locally using 5-fold cross-validation\n",
    "cross_val_score(lCV, X_train, y_train.values.ravel(), cv=5, scoring='neg_mean_squared_error')\n",
    "\n"
   ]
  },
  {
   "cell_type": "markdown",
   "metadata": {},
   "source": [
    "### Model: GradientBoostingRegressor"
   ]
  },
  {
   "cell_type": "code",
   "execution_count": 16,
   "metadata": {},
   "outputs": [
    {
     "data": {
      "text/plain": [
       "0.24940800642738953"
      ]
     },
     "metadata": {},
     "output_type": "display_data"
    },
    {
     "data": {
      "text/plain": [
       "array([-0.34286892, -0.35347905, -0.33875133, -0.33735468, -0.34635361])"
      ]
     },
     "execution_count": 16,
     "metadata": {},
     "output_type": "execute_result"
    }
   ],
   "source": [
    "# GradientBoostingRegressor\n",
    "\n",
    "params = {'n_estimators': 50, 'max_depth': 4, 'min_samples_split': 2,\n",
    "          'learning_rate': 0.01, 'loss': 'ls'}\n",
    "gbr = GradientBoostingRegressor(**params)\n",
    "gbr.fit(X_train_model, y_train_model.values.ravel())\n",
    "y_pred_model = lr.predict(X_test_model)\n",
    "\n",
    "display(metrics.mean_squared_error(y_test_model, y_pred_model))\n",
    "\n",
    "# validate locally using 5-fold cross-validation\n",
    "cross_val_score(gbr, X_train, y_train.values.ravel(), cv=5, scoring='neg_mean_squared_error')\n",
    "\n"
   ]
  },
  {
   "cell_type": "markdown",
   "metadata": {},
   "source": [
    "### Run Actual Train and Test Data: Model: Random Forest Regressor"
   ]
  },
  {
   "cell_type": "code",
   "execution_count": 17,
   "metadata": {},
   "outputs": [
    {
     "name": "stdout",
     "output_type": "stream",
     "text": [
      "[ 4.31208088  4.83389722  4.15386007 ...,  4.86799191  5.28505964\n",
      "  4.39166745]\n",
      "Prediction Complete.\n"
     ]
    }
   ],
   "source": [
    "# Random Forest Regressor gave best store in Train Test Split: Test run submit results\n",
    "#Perfor Test\n",
    "rfclf = RandomForestRegressor(n_estimators=50, max_depth=20, oob_score=True)\n",
    "rfclf.fit(X_train, y_train.values.ravel())\n",
    "\n",
    "# calculate predicted on testing data\n",
    "pred = rfclf.predict(X_test)\n",
    "\n",
    "print(pred)\n",
    "print (\"Prediction Complete.\")"
   ]
  },
  {
   "cell_type": "markdown",
   "metadata": {},
   "source": [
    "### Generate Output Table: Baseline using Linear Regression\n",
    "Compile results for submission."
   ]
  },
  {
   "cell_type": "code",
   "execution_count": 18,
   "metadata": {},
   "outputs": [
    {
     "data": {
      "text/html": [
       "<div>\n",
       "<style>\n",
       "    .dataframe thead tr:only-child th {\n",
       "        text-align: right;\n",
       "    }\n",
       "\n",
       "    .dataframe thead th {\n",
       "        text-align: left;\n",
       "    }\n",
       "\n",
       "    .dataframe tbody tr th {\n",
       "        vertical-align: top;\n",
       "    }\n",
       "</style>\n",
       "<table border=\"1\" class=\"dataframe\">\n",
       "  <thead>\n",
       "    <tr style=\"text-align: right;\">\n",
       "      <th></th>\n",
       "      <th>id</th>\n",
       "      <th>property_type</th>\n",
       "      <th>room_type</th>\n",
       "      <th>amenities</th>\n",
       "      <th>accommodates</th>\n",
       "      <th>bathrooms</th>\n",
       "      <th>bed_type</th>\n",
       "      <th>cancellation_policy</th>\n",
       "      <th>cleaning_fee</th>\n",
       "      <th>city</th>\n",
       "      <th>...</th>\n",
       "      <th>latitude</th>\n",
       "      <th>longitude</th>\n",
       "      <th>name</th>\n",
       "      <th>neighbourhood</th>\n",
       "      <th>number_of_reviews</th>\n",
       "      <th>review_scores_rating</th>\n",
       "      <th>thumbnail_url</th>\n",
       "      <th>zipcode</th>\n",
       "      <th>bedrooms</th>\n",
       "      <th>beds</th>\n",
       "    </tr>\n",
       "  </thead>\n",
       "  <tbody>\n",
       "    <tr>\n",
       "      <th>0</th>\n",
       "      <td>3895911</td>\n",
       "      <td>Apartment</td>\n",
       "      <td>Private room</td>\n",
       "      <td>{TV,\"Cable TV\",Kitchen,\"Free parking on premis...</td>\n",
       "      <td>2</td>\n",
       "      <td>1.0</td>\n",
       "      <td>Real Bed</td>\n",
       "      <td>flexible</td>\n",
       "      <td>True</td>\n",
       "      <td>LA</td>\n",
       "      <td>...</td>\n",
       "      <td>34.028372</td>\n",
       "      <td>-118.494449</td>\n",
       "      <td>Santa Monica Private Bedroom/Bathroom Suite</td>\n",
       "      <td>Santa Monica</td>\n",
       "      <td>6</td>\n",
       "      <td>97.0</td>\n",
       "      <td>https://a0.muscache.com/im/pictures/92355eae-b...</td>\n",
       "      <td>90403</td>\n",
       "      <td>1.0</td>\n",
       "      <td>1.0</td>\n",
       "    </tr>\n",
       "    <tr>\n",
       "      <th>1</th>\n",
       "      <td>9710289</td>\n",
       "      <td>Apartment</td>\n",
       "      <td>Entire home/apt</td>\n",
       "      <td>{TV,\"Cable TV\",\"Wireless Internet\",\"Air condit...</td>\n",
       "      <td>3</td>\n",
       "      <td>1.0</td>\n",
       "      <td>Real Bed</td>\n",
       "      <td>moderate</td>\n",
       "      <td>True</td>\n",
       "      <td>NYC</td>\n",
       "      <td>...</td>\n",
       "      <td>40.720380</td>\n",
       "      <td>-73.942329</td>\n",
       "      <td>Bright, charming luxury 1 BR with amazing rooftop</td>\n",
       "      <td>Williamsburg</td>\n",
       "      <td>2</td>\n",
       "      <td>80.0</td>\n",
       "      <td>https://a0.muscache.com/im/pictures/da03e413-d...</td>\n",
       "      <td>11222</td>\n",
       "      <td>1.0</td>\n",
       "      <td>1.0</td>\n",
       "    </tr>\n",
       "    <tr>\n",
       "      <th>2</th>\n",
       "      <td>9051635</td>\n",
       "      <td>Apartment</td>\n",
       "      <td>Private room</td>\n",
       "      <td>{\"Wireless Internet\",Kitchen,Heating,\"Family/k...</td>\n",
       "      <td>1</td>\n",
       "      <td>1.0</td>\n",
       "      <td>Real Bed</td>\n",
       "      <td>moderate</td>\n",
       "      <td>True</td>\n",
       "      <td>SF</td>\n",
       "      <td>...</td>\n",
       "      <td>37.785434</td>\n",
       "      <td>-122.470284</td>\n",
       "      <td>Private room in charming apartment</td>\n",
       "      <td>Richmond District</td>\n",
       "      <td>2</td>\n",
       "      <td>100.0</td>\n",
       "      <td>https://a0.muscache.com/im/pictures/0ba7d8aa-9...</td>\n",
       "      <td>94118</td>\n",
       "      <td>1.0</td>\n",
       "      <td>1.0</td>\n",
       "    </tr>\n",
       "    <tr>\n",
       "      <th>3</th>\n",
       "      <td>708374</td>\n",
       "      <td>Apartment</td>\n",
       "      <td>Entire home/apt</td>\n",
       "      <td>{TV,\"Cable TV\",Internet,\"Wireless Internet\",\"W...</td>\n",
       "      <td>1</td>\n",
       "      <td>1.0</td>\n",
       "      <td>Real Bed</td>\n",
       "      <td>strict</td>\n",
       "      <td>True</td>\n",
       "      <td>LA</td>\n",
       "      <td>...</td>\n",
       "      <td>33.976026</td>\n",
       "      <td>-118.463471</td>\n",
       "      <td>Marina del Rey Beach Jr 1 Bdrm 5</td>\n",
       "      <td>Marina Del Rey</td>\n",
       "      <td>7</td>\n",
       "      <td>94.0</td>\n",
       "      <td>https://a0.muscache.com/im/pictures/30279741/4...</td>\n",
       "      <td>90292</td>\n",
       "      <td>0.0</td>\n",
       "      <td>1.0</td>\n",
       "    </tr>\n",
       "    <tr>\n",
       "      <th>4</th>\n",
       "      <td>626296</td>\n",
       "      <td>Apartment</td>\n",
       "      <td>Entire home/apt</td>\n",
       "      <td>{TV,Internet,\"Wireless Internet\",\"Air conditio...</td>\n",
       "      <td>2</td>\n",
       "      <td>1.0</td>\n",
       "      <td>Real Bed</td>\n",
       "      <td>flexible</td>\n",
       "      <td>True</td>\n",
       "      <td>NYC</td>\n",
       "      <td>...</td>\n",
       "      <td>40.735573</td>\n",
       "      <td>-74.005996</td>\n",
       "      <td>Bright Studio Loft Prime Location</td>\n",
       "      <td>West Village</td>\n",
       "      <td>0</td>\n",
       "      <td>NaN</td>\n",
       "      <td>https://a0.muscache.com/im/pictures/9384e262-8...</td>\n",
       "      <td>10014</td>\n",
       "      <td>1.0</td>\n",
       "      <td>1.0</td>\n",
       "    </tr>\n",
       "  </tbody>\n",
       "</table>\n",
       "<p>5 rows × 28 columns</p>\n",
       "</div>"
      ],
      "text/plain": [
       "        id property_type        room_type  \\\n",
       "0  3895911     Apartment     Private room   \n",
       "1  9710289     Apartment  Entire home/apt   \n",
       "2  9051635     Apartment     Private room   \n",
       "3   708374     Apartment  Entire home/apt   \n",
       "4   626296     Apartment  Entire home/apt   \n",
       "\n",
       "                                           amenities  accommodates  bathrooms  \\\n",
       "0  {TV,\"Cable TV\",Kitchen,\"Free parking on premis...             2        1.0   \n",
       "1  {TV,\"Cable TV\",\"Wireless Internet\",\"Air condit...             3        1.0   \n",
       "2  {\"Wireless Internet\",Kitchen,Heating,\"Family/k...             1        1.0   \n",
       "3  {TV,\"Cable TV\",Internet,\"Wireless Internet\",\"W...             1        1.0   \n",
       "4  {TV,Internet,\"Wireless Internet\",\"Air conditio...             2        1.0   \n",
       "\n",
       "   bed_type cancellation_policy  cleaning_fee city  ...    latitude  \\\n",
       "0  Real Bed            flexible          True   LA  ...   34.028372   \n",
       "1  Real Bed            moderate          True  NYC  ...   40.720380   \n",
       "2  Real Bed            moderate          True   SF  ...   37.785434   \n",
       "3  Real Bed              strict          True   LA  ...   33.976026   \n",
       "4  Real Bed            flexible          True  NYC  ...   40.735573   \n",
       "\n",
       "    longitude                                               name  \\\n",
       "0 -118.494449        Santa Monica Private Bedroom/Bathroom Suite   \n",
       "1  -73.942329  Bright, charming luxury 1 BR with amazing rooftop   \n",
       "2 -122.470284                 Private room in charming apartment   \n",
       "3 -118.463471                   Marina del Rey Beach Jr 1 Bdrm 5   \n",
       "4  -74.005996                  Bright Studio Loft Prime Location   \n",
       "\n",
       "       neighbourhood number_of_reviews review_scores_rating  \\\n",
       "0       Santa Monica                 6                 97.0   \n",
       "1       Williamsburg                 2                 80.0   \n",
       "2  Richmond District                 2                100.0   \n",
       "3     Marina Del Rey                 7                 94.0   \n",
       "4       West Village                 0                  NaN   \n",
       "\n",
       "                                       thumbnail_url zipcode  bedrooms  beds  \n",
       "0  https://a0.muscache.com/im/pictures/92355eae-b...   90403       1.0   1.0  \n",
       "1  https://a0.muscache.com/im/pictures/da03e413-d...   11222       1.0   1.0  \n",
       "2  https://a0.muscache.com/im/pictures/0ba7d8aa-9...   94118       1.0   1.0  \n",
       "3  https://a0.muscache.com/im/pictures/30279741/4...   90292       0.0   1.0  \n",
       "4  https://a0.muscache.com/im/pictures/9384e262-8...   10014       1.0   1.0  \n",
       "\n",
       "[5 rows x 28 columns]"
      ]
     },
     "execution_count": 18,
     "metadata": {},
     "output_type": "execute_result"
    }
   ],
   "source": [
    "# Load original test data to pull Id List\n",
    "test_detail = pd.read_csv(rootDirectory+\"/data/raw/test.csv\")\n",
    "test_detail.head()"
   ]
  },
  {
   "cell_type": "code",
   "execution_count": 19,
   "metadata": {},
   "outputs": [
    {
     "data": {
      "text/plain": [
       "(25458, 1)"
      ]
     },
     "metadata": {},
     "output_type": "display_data"
    },
    {
     "data": {
      "text/html": [
       "<div>\n",
       "<style>\n",
       "    .dataframe thead tr:only-child th {\n",
       "        text-align: right;\n",
       "    }\n",
       "\n",
       "    .dataframe thead th {\n",
       "        text-align: left;\n",
       "    }\n",
       "\n",
       "    .dataframe tbody tr th {\n",
       "        vertical-align: top;\n",
       "    }\n",
       "</style>\n",
       "<table border=\"1\" class=\"dataframe\">\n",
       "  <thead>\n",
       "    <tr style=\"text-align: right;\">\n",
       "      <th></th>\n",
       "      <th>log_price</th>\n",
       "    </tr>\n",
       "    <tr>\n",
       "      <th>id</th>\n",
       "      <th></th>\n",
       "    </tr>\n",
       "  </thead>\n",
       "  <tbody>\n",
       "    <tr>\n",
       "      <th>3895911</th>\n",
       "      <td>4.312081</td>\n",
       "    </tr>\n",
       "    <tr>\n",
       "      <th>9710289</th>\n",
       "      <td>4.833897</td>\n",
       "    </tr>\n",
       "    <tr>\n",
       "      <th>9051635</th>\n",
       "      <td>4.153860</td>\n",
       "    </tr>\n",
       "    <tr>\n",
       "      <th>708374</th>\n",
       "      <td>4.566058</td>\n",
       "    </tr>\n",
       "    <tr>\n",
       "      <th>626296</th>\n",
       "      <td>5.104000</td>\n",
       "    </tr>\n",
       "  </tbody>\n",
       "</table>\n",
       "</div>"
      ],
      "text/plain": [
       "         log_price\n",
       "id                \n",
       "3895911   4.312081\n",
       "9710289   4.833897\n",
       "9051635   4.153860\n",
       "708374    4.566058\n",
       "626296    5.104000"
      ]
     },
     "metadata": {},
     "output_type": "display_data"
    }
   ],
   "source": [
    "# Output table\n",
    "output = pd.DataFrame({'id': test_detail['id'],\n",
    "        'log_price': pred}).set_index('id')\n",
    "\n",
    "display(output.shape)\n",
    "display(output.head())"
   ]
  },
  {
   "cell_type": "code",
   "execution_count": 20,
   "metadata": {
    "collapsed": true
   },
   "outputs": [],
   "source": [
    "#Export CSV\n",
    "# from datetime import datetime\n",
    "# output.to_csv(rootDirectory+'/models/submission/sub_{}.csv'.format(datetime.now().strftime('%Y%m%d_%H%M%S')), index=True)"
   ]
  }
 ],
 "metadata": {
  "kernelspec": {
   "display_name": "Python 3",
   "language": "python",
   "name": "python3"
  },
  "language_info": {
   "codemirror_mode": {
    "name": "ipython",
    "version": 3
   },
   "file_extension": ".py",
   "mimetype": "text/x-python",
   "name": "python",
   "nbconvert_exporter": "python",
   "pygments_lexer": "ipython3",
   "version": "3.6.1"
  }
 },
 "nbformat": 4,
 "nbformat_minor": 2
}
